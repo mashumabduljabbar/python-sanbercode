{
  "nbformat": 4,
  "nbformat_minor": 0,
  "metadata": {
    "kernelspec": {
      "display_name": "Python 3",
      "language": "python",
      "name": "python3"
    },
    "language_info": {
      "codemirror_mode": {
        "name": "ipython",
        "version": 3
      },
      "file_extension": ".py",
      "mimetype": "text/x-python",
      "name": "python",
      "nbconvert_exporter": "python",
      "pygments_lexer": "ipython3",
      "version": "3.7.6"
    },
    "colab": {
      "name": "PredictSupeprvisedLearning.ipynb",
      "provenance": [],
      "collapsed_sections": [
        "e4pOBRZlMuQc",
        "WVJEj5KuMuQs",
        "zn0Jqy5cMuQ4",
        "J30DLXI3MuRI",
        "5CJ7yJlpMuRa",
        "tFrO_pI9MuRh",
        "5dDx3dJJMuRv",
        "QATxhlFUMuR5",
        "FUe3nAeDMuSL",
        "kRiNesIUMuTp"
      ]
    }
  },
  "cells": [
    {
      "cell_type": "markdown",
      "metadata": {
        "id": "24H_icU2MuOf",
        "colab_type": "text"
      },
      "source": [
        "## Final Project - Python Data Science"
      ]
    },
    {
      "cell_type": "code",
      "metadata": {
        "id": "1MteZRcFMuOi",
        "colab_type": "code",
        "colab": {}
      },
      "source": [
        "# Import library pandas dan file raw data yang dibutuhkan\n",
        "import pandas as pd\n",
        "import numpy as np\n",
        "\n",
        "df_train = pd.read_csv('https://raw.githubusercontent.com/multimediary/dataset/master/train.csv')\n",
        "df_test = pd.read_csv('https://raw.githubusercontent.com/multimediary/dataset/master/test.csv')"
      ],
      "execution_count": 192,
      "outputs": []
    },
    {
      "cell_type": "code",
      "metadata": {
        "id": "7iV9r5CRMuOr",
        "colab_type": "code",
        "colab": {
          "base_uri": "https://localhost:8080/",
          "height": 51
        },
        "outputId": "f8b006bd-317e-46ee-c8ad-6354f735d2b2"
      },
      "source": [
        "# Melihat ukuran dimensi dataframe\n",
        "print(df_train.shape) # (Baris, Kolom)\n",
        "print(df_test.shape) # (Baris, Kolom)"
      ],
      "execution_count": 193,
      "outputs": [
        {
          "output_type": "stream",
          "text": [
            "(35994, 13)\n",
            "(9599, 12)\n"
          ],
          "name": "stdout"
        }
      ]
    },
    {
      "cell_type": "code",
      "metadata": {
        "id": "6kugu7FwMuO1",
        "colab_type": "code",
        "colab": {}
      },
      "source": [
        "# Membuat fungsi concat Dataframe\n",
        "def concat_df(train_data, test_data):\n",
        "    # Returns a concatenated df of training and test set\n",
        "    return pd.concat([train_data, test_data], sort=True).reset_index(drop=True)\n",
        "\n",
        "df_all = concat_df(df_train, df_test)"
      ],
      "execution_count": 194,
      "outputs": []
    },
    {
      "cell_type": "code",
      "metadata": {
        "id": "tpNdlqsnMuO6",
        "colab_type": "code",
        "colab": {
          "base_uri": "https://localhost:8080/",
          "height": 197
        },
        "outputId": "6b214802-99c4-4564-e172-44517e3b92cd"
      },
      "source": [
        "df_all.head()"
      ],
      "execution_count": 195,
      "outputs": [
        {
          "output_type": "execute_result",
          "data": {
            "text/html": [
              "<div>\n",
              "<style scoped>\n",
              "    .dataframe tbody tr th:only-of-type {\n",
              "        vertical-align: middle;\n",
              "    }\n",
              "\n",
              "    .dataframe tbody tr th {\n",
              "        vertical-align: top;\n",
              "    }\n",
              "\n",
              "    .dataframe thead th {\n",
              "        text-align: right;\n",
              "    }\n",
              "</style>\n",
              "<table border=\"1\" class=\"dataframe\">\n",
              "  <thead>\n",
              "    <tr style=\"text-align: right;\">\n",
              "      <th></th>\n",
              "      <th>Berat Akhir</th>\n",
              "      <th>Gaji</th>\n",
              "      <th>Jam per Minggu</th>\n",
              "      <th>Jenis Kelamin</th>\n",
              "      <th>Jmlh Tahun Pendidikan</th>\n",
              "      <th>Kelas Pekerja</th>\n",
              "      <th>Kerugian Capital</th>\n",
              "      <th>Keuntungan Kapital</th>\n",
              "      <th>Pekerjaan</th>\n",
              "      <th>Pendidikan</th>\n",
              "      <th>Status Perkawinan</th>\n",
              "      <th>Umur</th>\n",
              "      <th>id</th>\n",
              "    </tr>\n",
              "  </thead>\n",
              "  <tbody>\n",
              "    <tr>\n",
              "      <th>0</th>\n",
              "      <td>242912</td>\n",
              "      <td>&lt;=7jt</td>\n",
              "      <td>35.0</td>\n",
              "      <td>Perempuan</td>\n",
              "      <td>9</td>\n",
              "      <td>Wiraswasta</td>\n",
              "      <td>0.0</td>\n",
              "      <td>0.0</td>\n",
              "      <td>Servis Lainnya</td>\n",
              "      <td>SMA</td>\n",
              "      <td>Belum Pernah Menikah</td>\n",
              "      <td>21</td>\n",
              "      <td>0</td>\n",
              "    </tr>\n",
              "    <tr>\n",
              "      <th>1</th>\n",
              "      <td>140782</td>\n",
              "      <td>&lt;=7jt</td>\n",
              "      <td>40.0</td>\n",
              "      <td>Perempuan</td>\n",
              "      <td>6</td>\n",
              "      <td>Wiraswasta</td>\n",
              "      <td>0.0</td>\n",
              "      <td>0.0</td>\n",
              "      <td>Ekesekutif Managerial</td>\n",
              "      <td>10th</td>\n",
              "      <td>Cerai</td>\n",
              "      <td>49</td>\n",
              "      <td>1</td>\n",
              "    </tr>\n",
              "    <tr>\n",
              "      <th>2</th>\n",
              "      <td>120057</td>\n",
              "      <td>&gt;7jt</td>\n",
              "      <td>45.0</td>\n",
              "      <td>Laki2</td>\n",
              "      <td>12</td>\n",
              "      <td>Wiraswasta</td>\n",
              "      <td>0.0</td>\n",
              "      <td>61404000.0</td>\n",
              "      <td>Ekesekutif Managerial</td>\n",
              "      <td>D3</td>\n",
              "      <td>Menikah</td>\n",
              "      <td>44</td>\n",
              "      <td>2</td>\n",
              "    </tr>\n",
              "    <tr>\n",
              "      <th>3</th>\n",
              "      <td>194630</td>\n",
              "      <td>&lt;=7jt</td>\n",
              "      <td>35.0</td>\n",
              "      <td>Laki2</td>\n",
              "      <td>13</td>\n",
              "      <td>Wiraswasta</td>\n",
              "      <td>0.0</td>\n",
              "      <td>0.0</td>\n",
              "      <td>Spesialis</td>\n",
              "      <td>Sarjana</td>\n",
              "      <td>Belum Pernah Menikah</td>\n",
              "      <td>24</td>\n",
              "      <td>3</td>\n",
              "    </tr>\n",
              "    <tr>\n",
              "      <th>4</th>\n",
              "      <td>219619</td>\n",
              "      <td>&gt;7jt</td>\n",
              "      <td>40.0</td>\n",
              "      <td>Laki2</td>\n",
              "      <td>14</td>\n",
              "      <td>Wiraswasta</td>\n",
              "      <td>0.0</td>\n",
              "      <td>210336000.0</td>\n",
              "      <td>Spesialis</td>\n",
              "      <td>Master</td>\n",
              "      <td>Menikah</td>\n",
              "      <td>33</td>\n",
              "      <td>4</td>\n",
              "    </tr>\n",
              "  </tbody>\n",
              "</table>\n",
              "</div>"
            ],
            "text/plain": [
              "   Berat Akhir   Gaji  Jam per Minggu  ...     Status Perkawinan  Umur id\n",
              "0       242912  <=7jt            35.0  ...  Belum Pernah Menikah    21  0\n",
              "1       140782  <=7jt            40.0  ...                 Cerai    49  1\n",
              "2       120057   >7jt            45.0  ...               Menikah    44  2\n",
              "3       194630  <=7jt            35.0  ...  Belum Pernah Menikah    24  3\n",
              "4       219619   >7jt            40.0  ...               Menikah    33  4\n",
              "\n",
              "[5 rows x 13 columns]"
            ]
          },
          "metadata": {
            "tags": []
          },
          "execution_count": 195
        }
      ]
    },
    {
      "cell_type": "code",
      "metadata": {
        "id": "Lr6gtG5qMuPC",
        "colab_type": "code",
        "colab": {
          "base_uri": "https://localhost:8080/",
          "height": 405
        },
        "outputId": "17a341d3-60b3-4a52-c639-b2c2545bf7c6"
      },
      "source": [
        "#Data test\n",
        "df_all.loc[35994:]"
      ],
      "execution_count": 196,
      "outputs": [
        {
          "output_type": "execute_result",
          "data": {
            "text/html": [
              "<div>\n",
              "<style scoped>\n",
              "    .dataframe tbody tr th:only-of-type {\n",
              "        vertical-align: middle;\n",
              "    }\n",
              "\n",
              "    .dataframe tbody tr th {\n",
              "        vertical-align: top;\n",
              "    }\n",
              "\n",
              "    .dataframe thead th {\n",
              "        text-align: right;\n",
              "    }\n",
              "</style>\n",
              "<table border=\"1\" class=\"dataframe\">\n",
              "  <thead>\n",
              "    <tr style=\"text-align: right;\">\n",
              "      <th></th>\n",
              "      <th>Berat Akhir</th>\n",
              "      <th>Gaji</th>\n",
              "      <th>Jam per Minggu</th>\n",
              "      <th>Jenis Kelamin</th>\n",
              "      <th>Jmlh Tahun Pendidikan</th>\n",
              "      <th>Kelas Pekerja</th>\n",
              "      <th>Kerugian Capital</th>\n",
              "      <th>Keuntungan Kapital</th>\n",
              "      <th>Pekerjaan</th>\n",
              "      <th>Pendidikan</th>\n",
              "      <th>Status Perkawinan</th>\n",
              "      <th>Umur</th>\n",
              "      <th>id</th>\n",
              "    </tr>\n",
              "  </thead>\n",
              "  <tbody>\n",
              "    <tr>\n",
              "      <th>35994</th>\n",
              "      <td>99761</td>\n",
              "      <td>NaN</td>\n",
              "      <td>40.0</td>\n",
              "      <td>Perempuan</td>\n",
              "      <td>11</td>\n",
              "      <td>Pemerintah Lokal</td>\n",
              "      <td>0.0</td>\n",
              "      <td>0.0</td>\n",
              "      <td>Pemuka Agama</td>\n",
              "      <td>D4</td>\n",
              "      <td>Cerai</td>\n",
              "      <td>30</td>\n",
              "      <td>35994</td>\n",
              "    </tr>\n",
              "    <tr>\n",
              "      <th>35995</th>\n",
              "      <td>202206</td>\n",
              "      <td>NaN</td>\n",
              "      <td>50.0</td>\n",
              "      <td>Laki2</td>\n",
              "      <td>9</td>\n",
              "      <td>Wiraswasta</td>\n",
              "      <td>0.0</td>\n",
              "      <td>0.0</td>\n",
              "      <td>Mesin Inspeksi</td>\n",
              "      <td>SMA</td>\n",
              "      <td>Menikah</td>\n",
              "      <td>28</td>\n",
              "      <td>35995</td>\n",
              "    </tr>\n",
              "    <tr>\n",
              "      <th>35996</th>\n",
              "      <td>199934</td>\n",
              "      <td>NaN</td>\n",
              "      <td>40.0</td>\n",
              "      <td>Laki2</td>\n",
              "      <td>10</td>\n",
              "      <td>Pemerintah Provinsi</td>\n",
              "      <td>0.0</td>\n",
              "      <td>0.0</td>\n",
              "      <td>Pemuka Agama</td>\n",
              "      <td>Pendidikan Tinggi</td>\n",
              "      <td>Menikah</td>\n",
              "      <td>34</td>\n",
              "      <td>35996</td>\n",
              "    </tr>\n",
              "    <tr>\n",
              "      <th>35997</th>\n",
              "      <td>373448</td>\n",
              "      <td>NaN</td>\n",
              "      <td>40.0</td>\n",
              "      <td>Laki2</td>\n",
              "      <td>10</td>\n",
              "      <td>Wiraswasta</td>\n",
              "      <td>28028000.0</td>\n",
              "      <td>0.0</td>\n",
              "      <td>Ekesekutif Managerial</td>\n",
              "      <td>Pendidikan Tinggi</td>\n",
              "      <td>Menikah</td>\n",
              "      <td>51</td>\n",
              "      <td>35997</td>\n",
              "    </tr>\n",
              "    <tr>\n",
              "      <th>35998</th>\n",
              "      <td>144685</td>\n",
              "      <td>NaN</td>\n",
              "      <td>40.0</td>\n",
              "      <td>Perempuan</td>\n",
              "      <td>10</td>\n",
              "      <td>?</td>\n",
              "      <td>22428000.0</td>\n",
              "      <td>0.0</td>\n",
              "      <td>?</td>\n",
              "      <td>Pendidikan Tinggi</td>\n",
              "      <td>Belum Pernah Menikah</td>\n",
              "      <td>20</td>\n",
              "      <td>35998</td>\n",
              "    </tr>\n",
              "    <tr>\n",
              "      <th>...</th>\n",
              "      <td>...</td>\n",
              "      <td>...</td>\n",
              "      <td>...</td>\n",
              "      <td>...</td>\n",
              "      <td>...</td>\n",
              "      <td>...</td>\n",
              "      <td>...</td>\n",
              "      <td>...</td>\n",
              "      <td>...</td>\n",
              "      <td>...</td>\n",
              "      <td>...</td>\n",
              "      <td>...</td>\n",
              "      <td>...</td>\n",
              "    </tr>\n",
              "    <tr>\n",
              "      <th>45588</th>\n",
              "      <td>159021</td>\n",
              "      <td>NaN</td>\n",
              "      <td>40.0</td>\n",
              "      <td>Laki2</td>\n",
              "      <td>5</td>\n",
              "      <td>Pemerintah Negara</td>\n",
              "      <td>0.0</td>\n",
              "      <td>0.0</td>\n",
              "      <td>Petani</td>\n",
              "      <td>9th</td>\n",
              "      <td>Menikah</td>\n",
              "      <td>58</td>\n",
              "      <td>45588</td>\n",
              "    </tr>\n",
              "    <tr>\n",
              "      <th>45589</th>\n",
              "      <td>144086</td>\n",
              "      <td>NaN</td>\n",
              "      <td>50.0</td>\n",
              "      <td>Laki2</td>\n",
              "      <td>7</td>\n",
              "      <td>Pekerja Bebas Bukan Perusahan</td>\n",
              "      <td>0.0</td>\n",
              "      <td>0.0</td>\n",
              "      <td>Perbaikan Kerajinan</td>\n",
              "      <td>11th</td>\n",
              "      <td>Menikah</td>\n",
              "      <td>45</td>\n",
              "      <td>45589</td>\n",
              "    </tr>\n",
              "    <tr>\n",
              "      <th>45590</th>\n",
              "      <td>238685</td>\n",
              "      <td>NaN</td>\n",
              "      <td>32.0</td>\n",
              "      <td>Perempuan</td>\n",
              "      <td>10</td>\n",
              "      <td>Wiraswasta</td>\n",
              "      <td>0.0</td>\n",
              "      <td>0.0</td>\n",
              "      <td>Servis Lainnya</td>\n",
              "      <td>Pendidikan Tinggi</td>\n",
              "      <td>Belum Pernah Menikah</td>\n",
              "      <td>20</td>\n",
              "      <td>45590</td>\n",
              "    </tr>\n",
              "    <tr>\n",
              "      <th>45591</th>\n",
              "      <td>249039</td>\n",
              "      <td>NaN</td>\n",
              "      <td>40.0</td>\n",
              "      <td>Perempuan</td>\n",
              "      <td>9</td>\n",
              "      <td>Pemerintah Lokal</td>\n",
              "      <td>0.0</td>\n",
              "      <td>0.0</td>\n",
              "      <td>Pemuka Agama</td>\n",
              "      <td>SMA</td>\n",
              "      <td>Berpisah</td>\n",
              "      <td>41</td>\n",
              "      <td>45591</td>\n",
              "    </tr>\n",
              "    <tr>\n",
              "      <th>45592</th>\n",
              "      <td>24961</td>\n",
              "      <td>NaN</td>\n",
              "      <td>80.0</td>\n",
              "      <td>Laki2</td>\n",
              "      <td>9</td>\n",
              "      <td>Pekerja Bebas Bukan Perusahan</td>\n",
              "      <td>0.0</td>\n",
              "      <td>0.0</td>\n",
              "      <td>Petani</td>\n",
              "      <td>SMA</td>\n",
              "      <td>Menikah</td>\n",
              "      <td>34</td>\n",
              "      <td>45592</td>\n",
              "    </tr>\n",
              "  </tbody>\n",
              "</table>\n",
              "<p>9599 rows × 13 columns</p>\n",
              "</div>"
            ],
            "text/plain": [
              "       Berat Akhir Gaji  Jam per Minggu  ...     Status Perkawinan  Umur     id\n",
              "35994        99761  NaN            40.0  ...                 Cerai    30  35994\n",
              "35995       202206  NaN            50.0  ...               Menikah    28  35995\n",
              "35996       199934  NaN            40.0  ...               Menikah    34  35996\n",
              "35997       373448  NaN            40.0  ...               Menikah    51  35997\n",
              "35998       144685  NaN            40.0  ...  Belum Pernah Menikah    20  35998\n",
              "...            ...  ...             ...  ...                   ...   ...    ...\n",
              "45588       159021  NaN            40.0  ...               Menikah    58  45588\n",
              "45589       144086  NaN            50.0  ...               Menikah    45  45589\n",
              "45590       238685  NaN            32.0  ...  Belum Pernah Menikah    20  45590\n",
              "45591       249039  NaN            40.0  ...              Berpisah    41  45591\n",
              "45592        24961  NaN            80.0  ...               Menikah    34  45592\n",
              "\n",
              "[9599 rows x 13 columns]"
            ]
          },
          "metadata": {
            "tags": []
          },
          "execution_count": 196
        }
      ]
    },
    {
      "cell_type": "markdown",
      "metadata": {
        "id": "nSAJ4IHbMuPK",
        "colab_type": "text"
      },
      "source": [
        "## 1. Feature Discovering\n",
        "Mengenali missing value dari setiap kolom"
      ]
    },
    {
      "cell_type": "code",
      "metadata": {
        "id": "S7d23Wf1MuPL",
        "colab_type": "code",
        "colab": {}
      },
      "source": [
        "# Buat fungsi untuk menampilkan jumlah missing value\n",
        "def display_missing(df):    \n",
        "    for col in df.columns.tolist():          \n",
        "        print('{} column missing values: {}'.format(col, df[col].isnull().sum()))\n",
        "    print('\\n')"
      ],
      "execution_count": 197,
      "outputs": []
    },
    {
      "cell_type": "code",
      "metadata": {
        "id": "JL-Hb8sfMuPR",
        "colab_type": "code",
        "colab": {
          "base_uri": "https://localhost:8080/",
          "height": 273
        },
        "outputId": "08e9e042-99d7-43eb-bd89-f06f98a584bb"
      },
      "source": [
        "# Cek missing value data train\n",
        "display_missing(df_all)"
      ],
      "execution_count": 198,
      "outputs": [
        {
          "output_type": "stream",
          "text": [
            "Berat Akhir column missing values: 0\n",
            "Gaji column missing values: 9599\n",
            "Jam per Minggu column missing values: 0\n",
            "Jenis Kelamin column missing values: 0\n",
            "Jmlh Tahun Pendidikan column missing values: 0\n",
            "Kelas Pekerja column missing values: 0\n",
            "Kerugian Capital column missing values: 0\n",
            "Keuntungan Kapital column missing values: 0\n",
            "Pekerjaan column missing values: 0\n",
            "Pendidikan column missing values: 0\n",
            "Status Perkawinan column missing values: 0\n",
            "Umur column missing values: 0\n",
            "id column missing values: 0\n",
            "\n",
            "\n"
          ],
          "name": "stdout"
        }
      ]
    },
    {
      "cell_type": "markdown",
      "metadata": {
        "id": "J6DE68LsMuPZ",
        "colab_type": "text"
      },
      "source": [
        "### 1.1 Kolom umur"
      ]
    },
    {
      "cell_type": "code",
      "metadata": {
        "id": "SuyHpbCFMuPZ",
        "colab_type": "code",
        "colab": {
          "base_uri": "https://localhost:8080/",
          "height": 170
        },
        "outputId": "65815764-5bac-4e6b-83ca-be81c2ca9e6d"
      },
      "source": [
        "# Cek kolom umur\n",
        "df_all['Umur'].describe()"
      ],
      "execution_count": 199,
      "outputs": [
        {
          "output_type": "execute_result",
          "data": {
            "text/plain": [
              "count    45593.000000\n",
              "mean        38.618801\n",
              "std         13.698814\n",
              "min         17.000000\n",
              "25%         28.000000\n",
              "50%         37.000000\n",
              "75%         48.000000\n",
              "max         90.000000\n",
              "Name: Umur, dtype: float64"
            ]
          },
          "metadata": {
            "tags": []
          },
          "execution_count": 199
        }
      ]
    },
    {
      "cell_type": "code",
      "metadata": {
        "id": "X3UOQZ0FMuPf",
        "colab_type": "code",
        "colab": {}
      },
      "source": [
        "bins= [0,17,25,35,50,100]\n",
        "labels = ['0','1','2','3','4']\n",
        "df_all['AgeGroup'] = pd.cut(df_all['Umur'], bins=bins, labels=labels, right=False)"
      ],
      "execution_count": 200,
      "outputs": []
    },
    {
      "cell_type": "code",
      "metadata": {
        "id": "AJICbbfhMuPn",
        "colab_type": "code",
        "colab": {
          "base_uri": "https://localhost:8080/",
          "height": 119
        },
        "outputId": "1c699499-01d1-4c9a-bc04-56d73c57027a"
      },
      "source": [
        "df_all['AgeGroup'].value_counts()"
      ],
      "execution_count": 201,
      "outputs": [
        {
          "output_type": "execute_result",
          "data": {
            "text/plain": [
              "3    16048\n",
              "2    11753\n",
              "4     9918\n",
              "1     7874\n",
              "0        0\n",
              "Name: AgeGroup, dtype: int64"
            ]
          },
          "metadata": {
            "tags": []
          },
          "execution_count": 201
        }
      ]
    },
    {
      "cell_type": "code",
      "metadata": {
        "id": "4MaTOwJMMuPt",
        "colab_type": "code",
        "colab": {}
      },
      "source": [
        "df_all.drop('Umur', axis=1, inplace=True)"
      ],
      "execution_count": 202,
      "outputs": []
    },
    {
      "cell_type": "markdown",
      "metadata": {
        "id": "89iDKxaaMuP0",
        "colab_type": "text"
      },
      "source": [
        "### 1.2 Kolom Kelas Pekerja"
      ]
    },
    {
      "cell_type": "code",
      "metadata": {
        "id": "2bGh8AAMMuP2",
        "colab_type": "code",
        "colab": {
          "base_uri": "https://localhost:8080/",
          "height": 187
        },
        "outputId": "dd4b5c09-0635-4963-f095-125719643a70"
      },
      "source": [
        "df_all['Kelas Pekerja'].value_counts()"
      ],
      "execution_count": 203,
      "outputs": [
        {
          "output_type": "execute_result",
          "data": {
            "text/plain": [
              "Wiraswasta                       31662\n",
              "Pekerja Bebas Bukan Perusahan     3598\n",
              "Pemerintah Lokal                  2904\n",
              "?                                 2615\n",
              "Pemerintah Negara                 1853\n",
              "Pekerja Bebas Perusahaan          1589\n",
              "Pemerintah Provinsi               1345\n",
              "Tanpa di Bayar                      19\n",
              "Tidak Pernah Bekerja                 8\n",
              "Name: Kelas Pekerja, dtype: int64"
            ]
          },
          "metadata": {
            "tags": []
          },
          "execution_count": 203
        }
      ]
    },
    {
      "cell_type": "code",
      "metadata": {
        "id": "tXHhRJU9MuP6",
        "colab_type": "code",
        "colab": {
          "base_uri": "https://localhost:8080/",
          "height": 102
        },
        "outputId": "c6a31748-f8d3-465d-b90f-4d99f2deaa56"
      },
      "source": [
        "# Set kolom ? dengan nilai modus\n",
        "df_all['Kelas Pekerja'].loc[df_all['Kelas Pekerja']=='?'] = 'Wiraswasta'"
      ],
      "execution_count": 204,
      "outputs": [
        {
          "output_type": "stream",
          "text": [
            "/usr/local/lib/python3.6/dist-packages/pandas/core/indexing.py:671: SettingWithCopyWarning: \n",
            "A value is trying to be set on a copy of a slice from a DataFrame\n",
            "\n",
            "See the caveats in the documentation: https://pandas.pydata.org/pandas-docs/stable/user_guide/indexing.html#returning-a-view-versus-a-copy\n",
            "  self._setitem_with_indexer(indexer, value)\n"
          ],
          "name": "stderr"
        }
      ]
    },
    {
      "cell_type": "code",
      "metadata": {
        "id": "qX_MJohtMuP_",
        "colab_type": "code",
        "colab": {
          "base_uri": "https://localhost:8080/",
          "height": 170
        },
        "outputId": "896e8488-1071-402d-c77d-799877e3603c"
      },
      "source": [
        "df_all['Kelas Pekerja'].value_counts()"
      ],
      "execution_count": 205,
      "outputs": [
        {
          "output_type": "execute_result",
          "data": {
            "text/plain": [
              "Wiraswasta                       34277\n",
              "Pekerja Bebas Bukan Perusahan     3598\n",
              "Pemerintah Lokal                  2904\n",
              "Pemerintah Negara                 1853\n",
              "Pekerja Bebas Perusahaan          1589\n",
              "Pemerintah Provinsi               1345\n",
              "Tanpa di Bayar                      19\n",
              "Tidak Pernah Bekerja                 8\n",
              "Name: Kelas Pekerja, dtype: int64"
            ]
          },
          "metadata": {
            "tags": []
          },
          "execution_count": 205
        }
      ]
    },
    {
      "cell_type": "markdown",
      "metadata": {
        "id": "UjQH2UimMuQH",
        "colab_type": "text"
      },
      "source": [
        "### 1.3 Kolom Berat Akhir"
      ]
    },
    {
      "cell_type": "code",
      "metadata": {
        "id": "hWVxF3PLMuQI",
        "colab_type": "code",
        "colab": {
          "base_uri": "https://localhost:8080/",
          "height": 170
        },
        "outputId": "922199d8-f4ac-4d93-c06f-ee8b35ee5e01"
      },
      "source": [
        "df_all['Berat Akhir'].describe()"
      ],
      "execution_count": 206,
      "outputs": [
        {
          "output_type": "execute_result",
          "data": {
            "text/plain": [
              "count    4.559300e+04\n",
              "mean     1.899454e+05\n",
              "std      1.059312e+05\n",
              "min      1.228500e+04\n",
              "25%      1.175840e+05\n",
              "50%      1.783190e+05\n",
              "75%      2.379430e+05\n",
              "max      1.490400e+06\n",
              "Name: Berat Akhir, dtype: float64"
            ]
          },
          "metadata": {
            "tags": []
          },
          "execution_count": 206
        }
      ]
    },
    {
      "cell_type": "code",
      "metadata": {
        "id": "tvbvJGCsMuQO",
        "colab_type": "code",
        "colab": {}
      },
      "source": [
        "berat_label= [1,2,3,4,5,6,7,8,9,10]\n",
        "df_all['Berat Akhir']=pd.qcut(df_all['Berat Akhir'],10, labels=berat_label)"
      ],
      "execution_count": 207,
      "outputs": []
    },
    {
      "cell_type": "code",
      "metadata": {
        "id": "ZWBYymDAMuQW",
        "colab_type": "code",
        "colab": {}
      },
      "source": [
        "# Kolom ini blm tau kelanjutan prosesnya"
      ],
      "execution_count": 208,
      "outputs": []
    },
    {
      "cell_type": "markdown",
      "metadata": {
        "id": "e4pOBRZlMuQc",
        "colab_type": "text"
      },
      "source": [
        "### 1.4 Kolom Pendidikan"
      ]
    },
    {
      "cell_type": "code",
      "metadata": {
        "id": "Yz2e2tj7MuQd",
        "colab_type": "code",
        "colab": {
          "base_uri": "https://localhost:8080/",
          "height": 0
        },
        "outputId": "c4435fc1-a45c-4e4b-f239-ca6f99fd8852"
      },
      "source": [
        "df_all['Pendidikan'].value_counts()"
      ],
      "execution_count": 209,
      "outputs": [
        {
          "output_type": "execute_result",
          "data": {
            "text/plain": [
              "SMA                     14756\n",
              "Pendidikan Tinggi       10181\n",
              "Sarjana                  7492\n",
              "Master                   2453\n",
              "D4                       1917\n",
              "11th                     1694\n",
              "D3                       1487\n",
              "10th                     1295\n",
              "7th-8th                   896\n",
              "Sekolah Professional      774\n",
              "9th                       708\n",
              "12th                      603\n",
              "Doktor                    555\n",
              "5th-6th                   474\n",
              "1st-4th                   231\n",
              "SD                         77\n",
              "Name: Pendidikan, dtype: int64"
            ]
          },
          "metadata": {
            "tags": []
          },
          "execution_count": 209
        }
      ]
    },
    {
      "cell_type": "code",
      "metadata": {
        "id": "Mzz2VMeMMuQj",
        "colab_type": "code",
        "colab": {}
      },
      "source": [
        "# Set beberapa data ambigu ke Non SMA\n",
        "dict_pend = {'11th':'Non SMA','10th':'Non SMA','7th-8th':'Non SMA','9th':'Non SMA',\n",
        "             '12th':'Non SMA','5th-6th':'Non SMA','1st-4th':'Non SMA','SD':'Non SMA'}\n",
        "df_all['Pendidikan'] = df_all['Pendidikan'].map(dict_pend).fillna(df_all['Pendidikan']) "
      ],
      "execution_count": 210,
      "outputs": []
    },
    {
      "cell_type": "code",
      "metadata": {
        "id": "S3kfR2I8MuQo",
        "colab_type": "code",
        "colab": {
          "base_uri": "https://localhost:8080/",
          "height": 0
        },
        "outputId": "5025e8b1-a65d-401a-feaa-ec0037c001de"
      },
      "source": [
        "df_all['Pendidikan'].value_counts()"
      ],
      "execution_count": 211,
      "outputs": [
        {
          "output_type": "execute_result",
          "data": {
            "text/plain": [
              "SMA                     14756\n",
              "Pendidikan Tinggi       10181\n",
              "Sarjana                  7492\n",
              "Non SMA                  5978\n",
              "Master                   2453\n",
              "D4                       1917\n",
              "D3                       1487\n",
              "Sekolah Professional      774\n",
              "Doktor                    555\n",
              "Name: Pendidikan, dtype: int64"
            ]
          },
          "metadata": {
            "tags": []
          },
          "execution_count": 211
        }
      ]
    },
    {
      "cell_type": "markdown",
      "metadata": {
        "id": "WVJEj5KuMuQs",
        "colab_type": "text"
      },
      "source": [
        "### 1.5 Kolom Jmlh Tahun Pendidikan"
      ]
    },
    {
      "cell_type": "code",
      "metadata": {
        "id": "IyeN7BA8MuQs",
        "colab_type": "code",
        "colab": {
          "base_uri": "https://localhost:8080/",
          "height": 0
        },
        "outputId": "9c3c7077-575b-47b2-8eba-6209b46b5937"
      },
      "source": [
        "df_all['Jmlh Tahun Pendidikan'].value_counts()"
      ],
      "execution_count": 212,
      "outputs": [
        {
          "output_type": "execute_result",
          "data": {
            "text/plain": [
              "9     14756\n",
              "10    10181\n",
              "13     7492\n",
              "14     2453\n",
              "11     1917\n",
              "7      1694\n",
              "12     1487\n",
              "6      1295\n",
              "4       896\n",
              "15      774\n",
              "5       708\n",
              "8       603\n",
              "16      555\n",
              "3       474\n",
              "2       231\n",
              "1        77\n",
              "Name: Jmlh Tahun Pendidikan, dtype: int64"
            ]
          },
          "metadata": {
            "tags": []
          },
          "execution_count": 212
        }
      ]
    },
    {
      "cell_type": "code",
      "metadata": {
        "id": "sjdf8HwcMuQw",
        "colab_type": "code",
        "colab": {}
      },
      "source": [
        "# Isi data hampir sama dengan kolom pendidikan\n",
        "# Sebaikanya tidak perlu dimasukan ke dalam features"
      ],
      "execution_count": 213,
      "outputs": []
    },
    {
      "cell_type": "code",
      "metadata": {
        "id": "oMeMH-ySMuQ1",
        "colab_type": "code",
        "colab": {}
      },
      "source": [
        "df_all.drop('Jmlh Tahun Pendidikan', axis=1, inplace=True)"
      ],
      "execution_count": 214,
      "outputs": []
    },
    {
      "cell_type": "markdown",
      "metadata": {
        "id": "zn0Jqy5cMuQ4",
        "colab_type": "text"
      },
      "source": [
        "### 1.6 Kolom Status Perkawinan"
      ]
    },
    {
      "cell_type": "code",
      "metadata": {
        "id": "BzVRC3EgMuQ4",
        "colab_type": "code",
        "colab": {
          "base_uri": "https://localhost:8080/",
          "height": 0
        },
        "outputId": "d7ef121b-839b-4e5b-af63-397ecf4492fd"
      },
      "source": [
        "df_all['Status Perkawinan'].value_counts()"
      ],
      "execution_count": 215,
      "outputs": [
        {
          "output_type": "execute_result",
          "data": {
            "text/plain": [
              "Menikah                 20892\n",
              "Belum Pernah Menikah    15064\n",
              "Cerai                    6161\n",
              "Berpisah                 1434\n",
              "Janda                    1416\n",
              "Menikah LDR               626\n",
              "Name: Status Perkawinan, dtype: int64"
            ]
          },
          "metadata": {
            "tags": []
          },
          "execution_count": 215
        }
      ]
    },
    {
      "cell_type": "code",
      "metadata": {
        "id": "LXOEQURHMuQ-",
        "colab_type": "code",
        "colab": {}
      },
      "source": [
        "# Tidak perlu di lakukan feature engineering"
      ],
      "execution_count": 216,
      "outputs": []
    },
    {
      "cell_type": "markdown",
      "metadata": {
        "id": "J30DLXI3MuRI",
        "colab_type": "text"
      },
      "source": [
        "### 1.7 Kolom Pekerjaan"
      ]
    },
    {
      "cell_type": "code",
      "metadata": {
        "id": "BV2Uos37MuRJ",
        "colab_type": "code",
        "colab": {
          "base_uri": "https://localhost:8080/",
          "height": 0
        },
        "outputId": "739602e2-1625-44df-ac86-46cc8721172b"
      },
      "source": [
        "df_all['Pekerjaan'].value_counts()"
      ],
      "execution_count": 217,
      "outputs": [
        {
          "output_type": "execute_result",
          "data": {
            "text/plain": [
              "Spesialis                5729\n",
              "Perbaikan Kerajinan      5712\n",
              "Ekesekutif Managerial    5669\n",
              "Pemuka Agama             5270\n",
              "Sales                    5123\n",
              "Servis Lainnya           4597\n",
              "Mesin Inspeksi           2840\n",
              "?                        2623\n",
              "Supir                    2199\n",
              "Pembersih                1938\n",
              "Petani                   1392\n",
              "Tech-support             1343\n",
              "Penjaga                   914\n",
              "Asisten Rumah Tangga      230\n",
              "Tentara                    14\n",
              "Name: Pekerjaan, dtype: int64"
            ]
          },
          "metadata": {
            "tags": []
          },
          "execution_count": 217
        }
      ]
    },
    {
      "cell_type": "code",
      "metadata": {
        "id": "-mX2Pj6GMuRO",
        "colab_type": "code",
        "colab": {}
      },
      "source": [
        ""
      ],
      "execution_count": 217,
      "outputs": []
    },
    {
      "cell_type": "code",
      "metadata": {
        "id": "dJojHpwNMuRT",
        "colab_type": "code",
        "colab": {}
      },
      "source": [
        ""
      ],
      "execution_count": 217,
      "outputs": []
    },
    {
      "cell_type": "markdown",
      "metadata": {
        "id": "5CJ7yJlpMuRa",
        "colab_type": "text"
      },
      "source": [
        "### 1.8 Kolom Jenis Kelamin"
      ]
    },
    {
      "cell_type": "code",
      "metadata": {
        "id": "D-cR6ml1MuRb",
        "colab_type": "code",
        "colab": {
          "base_uri": "https://localhost:8080/",
          "height": 0
        },
        "outputId": "c8e24449-b407-438e-9bec-c502dcf3df1f"
      },
      "source": [
        "df_all['Jenis Kelamin'].value_counts()"
      ],
      "execution_count": 218,
      "outputs": [
        {
          "output_type": "execute_result",
          "data": {
            "text/plain": [
              "Laki2        30474\n",
              "Perempuan    15119\n",
              "Name: Jenis Kelamin, dtype: int64"
            ]
          },
          "metadata": {
            "tags": []
          },
          "execution_count": 218
        }
      ]
    },
    {
      "cell_type": "markdown",
      "metadata": {
        "id": "tFrO_pI9MuRh",
        "colab_type": "text"
      },
      "source": [
        "### 1.9 Kolom Keuntungan Kapital"
      ]
    },
    {
      "cell_type": "code",
      "metadata": {
        "id": "nvIJHqInMuRi",
        "colab_type": "code",
        "colab": {
          "base_uri": "https://localhost:8080/",
          "height": 0
        },
        "outputId": "96208fe9-8b25-4dc9-a4a0-9a3c5423693f"
      },
      "source": [
        "df_all['Keuntungan Kapital'].describe()"
      ],
      "execution_count": 219,
      "outputs": [
        {
          "output_type": "execute_result",
          "data": {
            "text/plain": [
              "count    4.559300e+04\n",
              "mean     1.500785e+07\n",
              "std      1.032283e+08\n",
              "min      0.000000e+00\n",
              "25%      0.000000e+00\n",
              "50%      0.000000e+00\n",
              "75%      0.000000e+00\n",
              "max      1.399986e+09\n",
              "Name: Keuntungan Kapital, dtype: float64"
            ]
          },
          "metadata": {
            "tags": []
          },
          "execution_count": 219
        }
      ]
    },
    {
      "cell_type": "code",
      "metadata": {
        "id": "Yk6SF98WMuRp",
        "colab_type": "code",
        "colab": {}
      },
      "source": [
        "a, b  = pd.cut(df_all['Keuntungan Kapital'],10 ,labels=[1,2,3,4,5,6,7,8,9,10], retbins=True)\n",
        "df_all['Keuntungan Kapital']= pd.cut(df_all['Keuntungan Kapital'], bins=b,labels=[1,2,3,4,5,6,7,8,9,10])"
      ],
      "execution_count": 220,
      "outputs": []
    },
    {
      "cell_type": "markdown",
      "metadata": {
        "id": "5dDx3dJJMuRv",
        "colab_type": "text"
      },
      "source": [
        "### 1.10 Kolom Kerugian Capital"
      ]
    },
    {
      "cell_type": "code",
      "metadata": {
        "id": "cLkG0YHZMuRw",
        "colab_type": "code",
        "colab": {
          "base_uri": "https://localhost:8080/",
          "height": 0
        },
        "outputId": "30a1a145-ed9c-4714-c077-7dc1abdd1f3c"
      },
      "source": [
        "df_all['Kerugian Capital'].describe()"
      ],
      "execution_count": 221,
      "outputs": [
        {
          "output_type": "execute_result",
          "data": {
            "text/plain": [
              "count    4.559300e+04\n",
              "mean     1.225298e+06\n",
              "std      5.648968e+06\n",
              "min      0.000000e+00\n",
              "25%      0.000000e+00\n",
              "50%      0.000000e+00\n",
              "75%      0.000000e+00\n",
              "max      6.098400e+07\n",
              "Name: Kerugian Capital, dtype: float64"
            ]
          },
          "metadata": {
            "tags": []
          },
          "execution_count": 221
        }
      ]
    },
    {
      "cell_type": "code",
      "metadata": {
        "id": "C4Y7ri_lMuR0",
        "colab_type": "code",
        "colab": {}
      },
      "source": [
        "a, b  = pd.cut(df_all['Kerugian Capital'],10 ,labels=[1,2,3,4,5,6,7,8,9,10], retbins=True)\n",
        "df_all['Kerugian Capital']= pd.cut(df_all['Kerugian Capital'], bins=b,labels=[1,2,3,4,5,6,7,8,9,10])"
      ],
      "execution_count": 222,
      "outputs": []
    },
    {
      "cell_type": "markdown",
      "metadata": {
        "id": "QATxhlFUMuR5",
        "colab_type": "text"
      },
      "source": [
        "### 1.11 Kolom Jam per Minggu"
      ]
    },
    {
      "cell_type": "code",
      "metadata": {
        "id": "qZDJXLmJMuR6",
        "colab_type": "code",
        "colab": {
          "base_uri": "https://localhost:8080/",
          "height": 0
        },
        "outputId": "c0e4db52-ed06-4aed-e30b-c811afadd217"
      },
      "source": [
        "df_all['Jam per Minggu'].describe()"
      ],
      "execution_count": 223,
      "outputs": [
        {
          "output_type": "execute_result",
          "data": {
            "text/plain": [
              "count    45593.000000\n",
              "mean        40.413594\n",
              "std         12.374100\n",
              "min          1.000000\n",
              "25%         40.000000\n",
              "50%         40.000000\n",
              "75%         45.000000\n",
              "max         99.000000\n",
              "Name: Jam per Minggu, dtype: float64"
            ]
          },
          "metadata": {
            "tags": []
          },
          "execution_count": 223
        }
      ]
    },
    {
      "cell_type": "code",
      "metadata": {
        "id": "13vMPW45MuSC",
        "colab_type": "code",
        "colab": {}
      },
      "source": [
        "a, b  = pd.cut(df_all['Jam per Minggu'],3 ,labels=[1,2,3], retbins=True)\n",
        "df_all['Jam per Minggu']= pd.cut(df_all['Jam per Minggu'], bins=b,labels=[1,2,3])"
      ],
      "execution_count": 224,
      "outputs": []
    },
    {
      "cell_type": "markdown",
      "metadata": {
        "id": "LoGoiQDRMuSK",
        "colab_type": "text"
      },
      "source": [
        "## 2. Modeling"
      ]
    },
    {
      "cell_type": "markdown",
      "metadata": {
        "id": "FUe3nAeDMuSL",
        "colab_type": "text"
      },
      "source": [
        "### 2.1 Scalling values"
      ]
    },
    {
      "cell_type": "code",
      "metadata": {
        "id": "8xrOYwUgMuSM",
        "colab_type": "code",
        "colab": {}
      },
      "source": [
        "from sklearn.preprocessing import LabelEncoder\n",
        "from sklearn.preprocessing import OneHotEncoder\n",
        "from sklearn.preprocessing import StandardScaler"
      ],
      "execution_count": 225,
      "outputs": []
    },
    {
      "cell_type": "code",
      "metadata": {
        "id": "soqpDniGMuST",
        "colab_type": "code",
        "colab": {}
      },
      "source": [
        "# non_numeric_features = ['AgeGroup','Kelas Pekerja','Pendidikan','Status Perkawinan','Pekerjaan','Jenis Kelamin']\n",
        "non_numeric_features = ['Kelas Pekerja','Pendidikan','Status Perkawinan','Pekerjaan','Jenis Kelamin']"
      ],
      "execution_count": 226,
      "outputs": []
    },
    {
      "cell_type": "code",
      "metadata": {
        "id": "OdFUtX9pMuSa",
        "colab_type": "code",
        "colab": {}
      },
      "source": [
        "for feature in non_numeric_features:        \n",
        "    df_all[feature] = LabelEncoder().fit_transform(df_all[feature])"
      ],
      "execution_count": 227,
      "outputs": []
    },
    {
      "cell_type": "code",
      "metadata": {
        "id": "8qYBqg_oMuSg",
        "colab_type": "code",
        "colab": {
          "base_uri": "https://localhost:8080/",
          "height": 0
        },
        "outputId": "0d41b77f-1a60-4540-9c8a-d8bbf177ed20"
      },
      "source": [
        "df_all.head()"
      ],
      "execution_count": 228,
      "outputs": [
        {
          "output_type": "execute_result",
          "data": {
            "text/html": [
              "<div>\n",
              "<style scoped>\n",
              "    .dataframe tbody tr th:only-of-type {\n",
              "        vertical-align: middle;\n",
              "    }\n",
              "\n",
              "    .dataframe tbody tr th {\n",
              "        vertical-align: top;\n",
              "    }\n",
              "\n",
              "    .dataframe thead th {\n",
              "        text-align: right;\n",
              "    }\n",
              "</style>\n",
              "<table border=\"1\" class=\"dataframe\">\n",
              "  <thead>\n",
              "    <tr style=\"text-align: right;\">\n",
              "      <th></th>\n",
              "      <th>Berat Akhir</th>\n",
              "      <th>Gaji</th>\n",
              "      <th>Jam per Minggu</th>\n",
              "      <th>Jenis Kelamin</th>\n",
              "      <th>Kelas Pekerja</th>\n",
              "      <th>Kerugian Capital</th>\n",
              "      <th>Keuntungan Kapital</th>\n",
              "      <th>Pekerjaan</th>\n",
              "      <th>Pendidikan</th>\n",
              "      <th>Status Perkawinan</th>\n",
              "      <th>id</th>\n",
              "      <th>AgeGroup</th>\n",
              "    </tr>\n",
              "  </thead>\n",
              "  <tbody>\n",
              "    <tr>\n",
              "      <th>0</th>\n",
              "      <td>8</td>\n",
              "      <td>&lt;=7jt</td>\n",
              "      <td>2</td>\n",
              "      <td>1</td>\n",
              "      <td>7</td>\n",
              "      <td>1</td>\n",
              "      <td>1</td>\n",
              "      <td>10</td>\n",
              "      <td>6</td>\n",
              "      <td>0</td>\n",
              "      <td>0</td>\n",
              "      <td>1</td>\n",
              "    </tr>\n",
              "    <tr>\n",
              "      <th>1</th>\n",
              "      <td>4</td>\n",
              "      <td>&lt;=7jt</td>\n",
              "      <td>2</td>\n",
              "      <td>1</td>\n",
              "      <td>7</td>\n",
              "      <td>1</td>\n",
              "      <td>1</td>\n",
              "      <td>2</td>\n",
              "      <td>4</td>\n",
              "      <td>2</td>\n",
              "      <td>1</td>\n",
              "      <td>3</td>\n",
              "    </tr>\n",
              "    <tr>\n",
              "      <th>2</th>\n",
              "      <td>3</td>\n",
              "      <td>&gt;7jt</td>\n",
              "      <td>2</td>\n",
              "      <td>0</td>\n",
              "      <td>7</td>\n",
              "      <td>1</td>\n",
              "      <td>1</td>\n",
              "      <td>2</td>\n",
              "      <td>0</td>\n",
              "      <td>4</td>\n",
              "      <td>2</td>\n",
              "      <td>3</td>\n",
              "    </tr>\n",
              "    <tr>\n",
              "      <th>3</th>\n",
              "      <td>6</td>\n",
              "      <td>&lt;=7jt</td>\n",
              "      <td>2</td>\n",
              "      <td>0</td>\n",
              "      <td>7</td>\n",
              "      <td>1</td>\n",
              "      <td>1</td>\n",
              "      <td>11</td>\n",
              "      <td>7</td>\n",
              "      <td>0</td>\n",
              "      <td>3</td>\n",
              "      <td>1</td>\n",
              "    </tr>\n",
              "    <tr>\n",
              "      <th>4</th>\n",
              "      <td>7</td>\n",
              "      <td>&gt;7jt</td>\n",
              "      <td>2</td>\n",
              "      <td>0</td>\n",
              "      <td>7</td>\n",
              "      <td>1</td>\n",
              "      <td>2</td>\n",
              "      <td>11</td>\n",
              "      <td>3</td>\n",
              "      <td>4</td>\n",
              "      <td>4</td>\n",
              "      <td>2</td>\n",
              "    </tr>\n",
              "  </tbody>\n",
              "</table>\n",
              "</div>"
            ],
            "text/plain": [
              "  Berat Akhir   Gaji Jam per Minggu  ...  Status Perkawinan  id AgeGroup\n",
              "0           8  <=7jt              2  ...                  0   0        1\n",
              "1           4  <=7jt              2  ...                  2   1        3\n",
              "2           3   >7jt              2  ...                  4   2        3\n",
              "3           6  <=7jt              2  ...                  0   3        1\n",
              "4           7   >7jt              2  ...                  4   4        2\n",
              "\n",
              "[5 rows x 12 columns]"
            ]
          },
          "metadata": {
            "tags": []
          },
          "execution_count": 228
        }
      ]
    },
    {
      "cell_type": "code",
      "metadata": {
        "id": "WrCYl7S4MuSl",
        "colab_type": "code",
        "colab": {}
      },
      "source": [
        "def normalize(x):\n",
        "    a = x - x.min()\n",
        "    b = x.max() - x.min()\n",
        "    return a/b"
      ],
      "execution_count": 229,
      "outputs": []
    },
    {
      "cell_type": "code",
      "metadata": {
        "id": "pJXTdC5ZMuSs",
        "colab_type": "code",
        "colab": {}
      },
      "source": [
        "# df_all['Berat Akhir'] = df_all[['Berat Akhir']].apply(normalize)\n",
        "# df_all['Kerugian Capital'] = df_all[['Kerugian Capital']].apply(normalize)\n",
        "# df_all['Keuntungan Kapital'] = df_all[['Keuntungan Kapital']].apply(normalize)\n",
        "# df_all['Jam per Minggu'] = df_all[['Jam per Minggu']].apply(normalize)"
      ],
      "execution_count": 230,
      "outputs": []
    },
    {
      "cell_type": "code",
      "metadata": {
        "id": "SIMBgIumMuS0",
        "colab_type": "code",
        "colab": {}
      },
      "source": [
        "df_train = df_all.loc[:35993]\n",
        "df_test = df_all.loc[35994:]"
      ],
      "execution_count": 231,
      "outputs": []
    },
    {
      "cell_type": "code",
      "metadata": {
        "id": "BPJPRGUsMuS8",
        "colab_type": "code",
        "colab": {
          "base_uri": "https://localhost:8080/",
          "height": 0
        },
        "outputId": "8357a656-34b5-4fac-c251-ab577cc18114"
      },
      "source": [
        "print(df_train.shape)\n",
        "print(df_test.shape)"
      ],
      "execution_count": 232,
      "outputs": [
        {
          "output_type": "stream",
          "text": [
            "(35994, 12)\n",
            "(9599, 12)\n"
          ],
          "name": "stdout"
        }
      ]
    },
    {
      "cell_type": "code",
      "metadata": {
        "id": "kC67G5AYMuTB",
        "colab_type": "code",
        "colab": {}
      },
      "source": [
        "X = StandardScaler().fit_transform(df_train.drop(columns=['Gaji']))"
      ],
      "execution_count": 233,
      "outputs": []
    },
    {
      "cell_type": "code",
      "metadata": {
        "id": "BoKy_4-1MuTK",
        "colab_type": "code",
        "colab": {
          "base_uri": "https://localhost:8080/",
          "height": 0
        },
        "outputId": "36158df3-40ed-4b55-b69c-01452dea3a86"
      },
      "source": [
        "X.shape"
      ],
      "execution_count": 234,
      "outputs": [
        {
          "output_type": "execute_result",
          "data": {
            "text/plain": [
              "(35994, 11)"
            ]
          },
          "metadata": {
            "tags": []
          },
          "execution_count": 234
        }
      ]
    },
    {
      "cell_type": "code",
      "metadata": {
        "id": "cWdD0RvEMuTO",
        "colab_type": "code",
        "colab": {
          "base_uri": "https://localhost:8080/",
          "height": 0
        },
        "outputId": "807c4a5c-1f33-484d-8cbf-271c59924c80"
      },
      "source": [
        "dict_gaji = {'<=7jt':'0','>7jt':'1'}\n",
        "df_train['Gaji'] = df_train['Gaji'].map(dict_gaji).fillna(df_train['Gaji']) "
      ],
      "execution_count": 235,
      "outputs": [
        {
          "output_type": "stream",
          "text": [
            "/usr/local/lib/python3.6/dist-packages/ipykernel_launcher.py:2: SettingWithCopyWarning: \n",
            "A value is trying to be set on a copy of a slice from a DataFrame.\n",
            "Try using .loc[row_indexer,col_indexer] = value instead\n",
            "\n",
            "See the caveats in the documentation: https://pandas.pydata.org/pandas-docs/stable/user_guide/indexing.html#returning-a-view-versus-a-copy\n",
            "  \n"
          ],
          "name": "stderr"
        }
      ]
    },
    {
      "cell_type": "code",
      "metadata": {
        "id": "yXOwLEQMMuTR",
        "colab_type": "code",
        "colab": {
          "base_uri": "https://localhost:8080/",
          "height": 0
        },
        "outputId": "7213819f-359b-40de-8cce-fba25bc444e9"
      },
      "source": [
        "df_train['Gaji'].value_counts()"
      ],
      "execution_count": 236,
      "outputs": [
        {
          "output_type": "execute_result",
          "data": {
            "text/plain": [
              "0    27364\n",
              "1     8630\n",
              "Name: Gaji, dtype: int64"
            ]
          },
          "metadata": {
            "tags": []
          },
          "execution_count": 236
        }
      ]
    },
    {
      "cell_type": "code",
      "metadata": {
        "id": "EJ0u4hZ-MuTW",
        "colab_type": "code",
        "colab": {}
      },
      "source": [
        "y = df_train['Gaji'].values"
      ],
      "execution_count": 237,
      "outputs": []
    },
    {
      "cell_type": "code",
      "metadata": {
        "id": "sd1aoST5MuTc",
        "colab_type": "code",
        "colab": {
          "base_uri": "https://localhost:8080/",
          "height": 0
        },
        "outputId": "6f0602fc-0698-4ed3-e9a7-a5da192ca43c"
      },
      "source": [
        "y"
      ],
      "execution_count": 238,
      "outputs": [
        {
          "output_type": "execute_result",
          "data": {
            "text/plain": [
              "array(['0', '0', '1', ..., '1', '0', '1'], dtype=object)"
            ]
          },
          "metadata": {
            "tags": []
          },
          "execution_count": 238
        }
      ]
    },
    {
      "cell_type": "markdown",
      "metadata": {
        "id": "kRiNesIUMuTp",
        "colab_type": "text"
      },
      "source": [
        "### 2.2 Algoritma"
      ]
    },
    {
      "cell_type": "code",
      "metadata": {
        "id": "iXJ1e-gzMuTq",
        "colab_type": "code",
        "colab": {}
      },
      "source": [
        "from sklearn.model_selection import train_test_split\n",
        "from sklearn.model_selection import cross_val_score\n",
        "from sklearn.model_selection import RandomizedSearchCV, GridSearchCV"
      ],
      "execution_count": 239,
      "outputs": []
    },
    {
      "cell_type": "code",
      "metadata": {
        "id": "i8gOU3LSMuT2",
        "colab_type": "code",
        "colab": {}
      },
      "source": [
        "X_train, X_test, y_train, y_test = train_test_split(X, y, test_size=0.25, random_state=21, stratify=y)"
      ],
      "execution_count": 240,
      "outputs": []
    },
    {
      "cell_type": "markdown",
      "metadata": {
        "id": "EA7pjtw5MuT7",
        "colab_type": "text"
      },
      "source": [
        "### A. NaiveBayes"
      ]
    },
    {
      "cell_type": "code",
      "metadata": {
        "id": "ys7pTheBMuT7",
        "colab_type": "code",
        "colab": {
          "base_uri": "https://localhost:8080/",
          "height": 34
        },
        "outputId": "a4238585-f645-4b4b-8252-90ee91f2c122"
      },
      "source": [
        "from sklearn.naive_bayes import GaussianNB\n",
        "model_nb = GaussianNB()\n",
        "\n",
        "cv_score = cross_val_score(model_nb, X, y, cv=10, scoring='roc_auc')\n",
        "cv_score.mean()"
      ],
      "execution_count": 241,
      "outputs": [
        {
          "output_type": "execute_result",
          "data": {
            "text/plain": [
              "0.8332263788108648"
            ]
          },
          "metadata": {
            "tags": []
          },
          "execution_count": 241
        }
      ]
    },
    {
      "cell_type": "code",
      "metadata": {
        "id": "m6Rq2OFOMuUA",
        "colab_type": "code",
        "colab": {}
      },
      "source": [
        "model.fit(X_train, y_train)\n",
        "y_predict_train = model.predict(X_train)\n",
        "y_predict_test = model.predict(X_test)"
      ],
      "execution_count": 242,
      "outputs": []
    },
    {
      "cell_type": "code",
      "metadata": {
        "id": "mM9xK6CXMuUD",
        "colab_type": "code",
        "colab": {}
      },
      "source": [
        "GaussianNB?"
      ],
      "execution_count": 243,
      "outputs": []
    },
    {
      "cell_type": "markdown",
      "metadata": {
        "id": "Y3crVSjzMuUH",
        "colab_type": "text"
      },
      "source": [
        "### B. RandomForest"
      ]
    },
    {
      "cell_type": "code",
      "metadata": {
        "id": "NPAp0-CNMuUH",
        "colab_type": "code",
        "colab": {
          "base_uri": "https://localhost:8080/",
          "height": 153
        },
        "outputId": "9209bec3-8f24-4343-d5de-79eb77e4354c"
      },
      "source": [
        "from sklearn.ensemble import RandomForestClassifier\n",
        "random_forest = RandomForestClassifier(criterion='gini', \n",
        "                                           n_estimators=1100,\n",
        "                                           max_depth=5,\n",
        "                                           min_samples_split=4,\n",
        "                                           min_samples_leaf=5,\n",
        "                                           max_features='auto',\n",
        "                                           oob_score=True,\n",
        "                                           random_state=50)\n",
        "random_forest.fit(X_train, y_train)"
      ],
      "execution_count": 244,
      "outputs": [
        {
          "output_type": "execute_result",
          "data": {
            "text/plain": [
              "RandomForestClassifier(bootstrap=True, ccp_alpha=0.0, class_weight=None,\n",
              "                       criterion='gini', max_depth=5, max_features='auto',\n",
              "                       max_leaf_nodes=None, max_samples=None,\n",
              "                       min_impurity_decrease=0.0, min_impurity_split=None,\n",
              "                       min_samples_leaf=5, min_samples_split=4,\n",
              "                       min_weight_fraction_leaf=0.0, n_estimators=1100,\n",
              "                       n_jobs=None, oob_score=True, random_state=50, verbose=0,\n",
              "                       warm_start=False)"
            ]
          },
          "metadata": {
            "tags": []
          },
          "execution_count": 244
        }
      ]
    },
    {
      "cell_type": "code",
      "metadata": {
        "id": "wmykIm8GMuUO",
        "colab_type": "code",
        "colab": {}
      },
      "source": [
        "y_predict_train = random_forest.predict(X_train)\n",
        "y_predict_test = random_forest.predict(X_test)"
      ],
      "execution_count": 245,
      "outputs": []
    },
    {
      "cell_type": "code",
      "metadata": {
        "id": "HmQYC3tTMuUV",
        "colab_type": "code",
        "colab": {
          "base_uri": "https://localhost:8080/",
          "height": 51
        },
        "outputId": "8b624010-2b8b-4620-fb50-c2054ca02c26"
      },
      "source": [
        "from sklearn.metrics import accuracy_score \n",
        "print('Score data train', accuracy_score(y_train, y_predict_train))\n",
        "print('Score data test', accuracy_score(y_test, y_predict_test))"
      ],
      "execution_count": 246,
      "outputs": [
        {
          "output_type": "stream",
          "text": [
            "Score data train 0.8307093906278941\n",
            "Score data test 0.8249805533948217\n"
          ],
          "name": "stdout"
        }
      ]
    },
    {
      "cell_type": "markdown",
      "metadata": {
        "id": "JufvKdqNMuUd",
        "colab_type": "text"
      },
      "source": [
        "### C. DecissionTree"
      ]
    },
    {
      "cell_type": "code",
      "metadata": {
        "id": "6Cd9IfbzMuUf",
        "colab_type": "code",
        "colab": {}
      },
      "source": [
        "from sklearn.tree import DecisionTreeClassifier\n",
        "dtree = DecisionTreeClassifier()"
      ],
      "execution_count": 247,
      "outputs": []
    },
    {
      "cell_type": "code",
      "metadata": {
        "id": "cMx49oWrMuUh",
        "colab_type": "code",
        "colab": {
          "base_uri": "https://localhost:8080/",
          "height": 426
        },
        "outputId": "e4fb4c40-305d-4d45-8481-e43f656f462d"
      },
      "source": [
        "params = {'random_state':np.arange(0,40),'criterion':['gini','entropy'],\n",
        "          'splitter':['best','random'],'max_depth':np.arange(2,20)} \n",
        "rscv = RandomizedSearchCV(dtree, params, scoring='accuracy', cv=10, n_iter=100)\n",
        "rscv.fit(X_train, y_train)"
      ],
      "execution_count": 248,
      "outputs": [
        {
          "output_type": "execute_result",
          "data": {
            "text/plain": [
              "RandomizedSearchCV(cv=10, error_score=nan,\n",
              "                   estimator=DecisionTreeClassifier(ccp_alpha=0.0,\n",
              "                                                    class_weight=None,\n",
              "                                                    criterion='gini',\n",
              "                                                    max_depth=None,\n",
              "                                                    max_features=None,\n",
              "                                                    max_leaf_nodes=None,\n",
              "                                                    min_impurity_decrease=0.0,\n",
              "                                                    min_impurity_split=None,\n",
              "                                                    min_samples_leaf=1,\n",
              "                                                    min_samples_split=2,\n",
              "                                                    min_weight_fraction_leaf=0.0,\n",
              "                                                    presort='deprecated',\n",
              "                                                    random_state=None,\n",
              "                                                    splitter='best'),...\n",
              "                   param_distributions={'criterion': ['gini', 'entropy'],\n",
              "                                        'max_depth': array([ 2,  3,  4,  5,  6,  7,  8,  9, 10, 11, 12, 13, 14, 15, 16, 17, 18,\n",
              "       19]),\n",
              "                                        'random_state': array([ 0,  1,  2,  3,  4,  5,  6,  7,  8,  9, 10, 11, 12, 13, 14, 15, 16,\n",
              "       17, 18, 19, 20, 21, 22, 23, 24, 25, 26, 27, 28, 29, 30, 31, 32, 33,\n",
              "       34, 35, 36, 37, 38, 39]),\n",
              "                                        'splitter': ['best', 'random']},\n",
              "                   pre_dispatch='2*n_jobs', random_state=None, refit=True,\n",
              "                   return_train_score=False, scoring='accuracy', verbose=0)"
            ]
          },
          "metadata": {
            "tags": []
          },
          "execution_count": 248
        }
      ]
    },
    {
      "cell_type": "code",
      "metadata": {
        "id": "N7K13IGZMuUk",
        "colab_type": "code",
        "colab": {
          "base_uri": "https://localhost:8080/",
          "height": 51
        },
        "outputId": "b0bdcc6b-6f66-43a8-8937-8c90b920d5f0"
      },
      "source": [
        "print(rscv.best_params_)\n",
        "print(rscv.best_score_)"
      ],
      "execution_count": 249,
      "outputs": [
        {
          "output_type": "stream",
          "text": [
            "{'splitter': 'best', 'random_state': 32, 'max_depth': 8, 'criterion': 'gini'}\n",
            "0.8377842685219491\n"
          ],
          "name": "stdout"
        }
      ]
    },
    {
      "cell_type": "code",
      "metadata": {
        "id": "zK7gGgN2MuUs",
        "colab_type": "code",
        "colab": {}
      },
      "source": [
        "# Prediksi data train dan test\n",
        "y_predict_train = rscv.predict(X_train)\n",
        "y_predict_test = rscv.predict(X_test)"
      ],
      "execution_count": 250,
      "outputs": []
    },
    {
      "cell_type": "code",
      "metadata": {
        "id": "Ginp9LeUMuUu",
        "colab_type": "code",
        "colab": {
          "base_uri": "https://localhost:8080/",
          "height": 51
        },
        "outputId": "33575d53-f089-4072-9c76-d4510a49a4dc"
      },
      "source": [
        "from sklearn.metrics import accuracy_score \n",
        "print('Score data train', accuracy_score(y_train, y_predict_train))\n",
        "print('Score data test', accuracy_score(y_test, y_predict_test))"
      ],
      "execution_count": 251,
      "outputs": [
        {
          "output_type": "stream",
          "text": [
            "Score data train 0.8457121689201704\n",
            "Score data test 0.8362040226691855\n"
          ],
          "name": "stdout"
        }
      ]
    },
    {
      "cell_type": "code",
      "metadata": {
        "id": "I01DzY6wMuUx",
        "colab_type": "code",
        "colab": {}
      },
      "source": [
        ""
      ],
      "execution_count": 251,
      "outputs": []
    },
    {
      "cell_type": "markdown",
      "metadata": {
        "id": "Ge148U55MuU0",
        "colab_type": "text"
      },
      "source": [
        "### 2.3 Tuning hyperparameter"
      ]
    },
    {
      "cell_type": "code",
      "metadata": {
        "id": "5hjQS2vAMuU2",
        "colab_type": "code",
        "colab": {
          "base_uri": "https://localhost:8080/",
          "height": 204
        },
        "outputId": "9be4e1ff-f154-4190-9a99-d01bc02c7d94"
      },
      "source": [
        "from sklearn.neighbors import KNeighborsClassifier\n",
        "model_knn = KNeighborsClassifier(n_neighbors=9, weights='distance')\n",
        "params = {'n_neighbors':np.arange(5,10),'weights':['uniform','distance']}\n",
        "gscv = GridSearchCV(model_knn,param_grid=params,scoring='roc_auc',cv=10)\n",
        "gscv.fit(X, y)"
      ],
      "execution_count": 252,
      "outputs": [
        {
          "output_type": "execute_result",
          "data": {
            "text/plain": [
              "GridSearchCV(cv=10, error_score=nan,\n",
              "             estimator=KNeighborsClassifier(algorithm='auto', leaf_size=30,\n",
              "                                            metric='minkowski',\n",
              "                                            metric_params=None, n_jobs=None,\n",
              "                                            n_neighbors=9, p=2,\n",
              "                                            weights='distance'),\n",
              "             iid='deprecated', n_jobs=None,\n",
              "             param_grid={'n_neighbors': array([5, 6, 7, 8, 9]),\n",
              "                         'weights': ['uniform', 'distance']},\n",
              "             pre_dispatch='2*n_jobs', refit=True, return_train_score=False,\n",
              "             scoring='roc_auc', verbose=0)"
            ]
          },
          "metadata": {
            "tags": []
          },
          "execution_count": 252
        }
      ]
    },
    {
      "cell_type": "code",
      "metadata": {
        "id": "e7_FLOq8MuU6",
        "colab_type": "code",
        "colab": {
          "base_uri": "https://localhost:8080/",
          "height": 51
        },
        "outputId": "664825fe-6a20-4d55-a211-5798fe401000"
      },
      "source": [
        "print(gscv.best_params_)\n",
        "print(gscv.best_score_)"
      ],
      "execution_count": 253,
      "outputs": [
        {
          "output_type": "stream",
          "text": [
            "{'n_neighbors': 9, 'weights': 'distance'}\n",
            "0.8425037332312917\n"
          ],
          "name": "stdout"
        }
      ]
    },
    {
      "cell_type": "code",
      "metadata": {
        "id": "ai0t0AEXMuU9",
        "colab_type": "code",
        "colab": {
          "base_uri": "https://localhost:8080/",
          "height": 34
        },
        "outputId": "1454a56b-50c4-48f3-b77b-ceee2592a951"
      },
      "source": [
        "\n",
        "cv_score = cross_val_score(model_knn, X, y, cv=10, scoring='roc_auc')\n",
        "cv_score.mean()"
      ],
      "execution_count": 254,
      "outputs": [
        {
          "output_type": "execute_result",
          "data": {
            "text/plain": [
              "0.8425037332312917"
            ]
          },
          "metadata": {
            "tags": []
          },
          "execution_count": 254
        }
      ]
    },
    {
      "cell_type": "code",
      "metadata": {
        "id": "B6kkX8vNMuVD",
        "colab_type": "code",
        "colab": {}
      },
      "source": [
        "model_knn.fit(X_train, y_train)\n",
        "y_predict_train = model_knn.predict(X_train)\n",
        "y_predict_test = model_knn.predict(X_test)"
      ],
      "execution_count": 255,
      "outputs": []
    },
    {
      "cell_type": "code",
      "metadata": {
        "id": "nWYuKlhQMuVI",
        "colab_type": "code",
        "colab": {
          "base_uri": "https://localhost:8080/",
          "height": 51
        },
        "outputId": "5eac2201-3f0a-4c94-e3ba-80205a7be29a"
      },
      "source": [
        "from sklearn.metrics import accuracy_score \n",
        "print('Score data train', accuracy_score(y_train, y_predict_train))\n",
        "print('Score data test', accuracy_score(y_test, y_predict_test))"
      ],
      "execution_count": 256,
      "outputs": [
        {
          "output_type": "stream",
          "text": [
            "Score data train 1.0\n",
            "Score data test 0.8117568618735415\n"
          ],
          "name": "stdout"
        }
      ]
    },
    {
      "cell_type": "markdown",
      "metadata": {
        "id": "Y4e0sEgPMuVM",
        "colab_type": "text"
      },
      "source": [
        "## 3. Real Data"
      ]
    },
    {
      "cell_type": "code",
      "metadata": {
        "id": "kVVBO8S_MuVN",
        "colab_type": "code",
        "colab": {
          "base_uri": "https://localhost:8080/",
          "height": 102
        },
        "outputId": "181157ba-f282-47ea-854e-91fb43af2c50"
      },
      "source": [
        "df_test.drop('Gaji', axis=1, inplace=True)"
      ],
      "execution_count": 257,
      "outputs": [
        {
          "output_type": "stream",
          "text": [
            "/usr/local/lib/python3.6/dist-packages/pandas/core/frame.py:3997: SettingWithCopyWarning: \n",
            "A value is trying to be set on a copy of a slice from a DataFrame\n",
            "\n",
            "See the caveats in the documentation: https://pandas.pydata.org/pandas-docs/stable/user_guide/indexing.html#returning-a-view-versus-a-copy\n",
            "  errors=errors,\n"
          ],
          "name": "stderr"
        }
      ]
    },
    {
      "cell_type": "code",
      "metadata": {
        "id": "COH-LO74MuVR",
        "colab_type": "code",
        "colab": {
          "base_uri": "https://localhost:8080/",
          "height": 197
        },
        "outputId": "cffb44be-f986-4d32-c30f-0a33c23a35bc"
      },
      "source": [
        "df_test.head()"
      ],
      "execution_count": 258,
      "outputs": [
        {
          "output_type": "execute_result",
          "data": {
            "text/html": [
              "<div>\n",
              "<style scoped>\n",
              "    .dataframe tbody tr th:only-of-type {\n",
              "        vertical-align: middle;\n",
              "    }\n",
              "\n",
              "    .dataframe tbody tr th {\n",
              "        vertical-align: top;\n",
              "    }\n",
              "\n",
              "    .dataframe thead th {\n",
              "        text-align: right;\n",
              "    }\n",
              "</style>\n",
              "<table border=\"1\" class=\"dataframe\">\n",
              "  <thead>\n",
              "    <tr style=\"text-align: right;\">\n",
              "      <th></th>\n",
              "      <th>Berat Akhir</th>\n",
              "      <th>Jam per Minggu</th>\n",
              "      <th>Jenis Kelamin</th>\n",
              "      <th>Kelas Pekerja</th>\n",
              "      <th>Kerugian Capital</th>\n",
              "      <th>Keuntungan Kapital</th>\n",
              "      <th>Pekerjaan</th>\n",
              "      <th>Pendidikan</th>\n",
              "      <th>Status Perkawinan</th>\n",
              "      <th>id</th>\n",
              "      <th>AgeGroup</th>\n",
              "    </tr>\n",
              "  </thead>\n",
              "  <tbody>\n",
              "    <tr>\n",
              "      <th>35994</th>\n",
              "      <td>2</td>\n",
              "      <td>2</td>\n",
              "      <td>1</td>\n",
              "      <td>2</td>\n",
              "      <td>1</td>\n",
              "      <td>1</td>\n",
              "      <td>5</td>\n",
              "      <td>1</td>\n",
              "      <td>2</td>\n",
              "      <td>35994</td>\n",
              "      <td>2</td>\n",
              "    </tr>\n",
              "    <tr>\n",
              "      <th>35995</th>\n",
              "      <td>7</td>\n",
              "      <td>2</td>\n",
              "      <td>0</td>\n",
              "      <td>7</td>\n",
              "      <td>1</td>\n",
              "      <td>1</td>\n",
              "      <td>3</td>\n",
              "      <td>6</td>\n",
              "      <td>4</td>\n",
              "      <td>35995</td>\n",
              "      <td>2</td>\n",
              "    </tr>\n",
              "    <tr>\n",
              "      <th>35996</th>\n",
              "      <td>7</td>\n",
              "      <td>2</td>\n",
              "      <td>0</td>\n",
              "      <td>4</td>\n",
              "      <td>1</td>\n",
              "      <td>1</td>\n",
              "      <td>5</td>\n",
              "      <td>5</td>\n",
              "      <td>4</td>\n",
              "      <td>35996</td>\n",
              "      <td>2</td>\n",
              "    </tr>\n",
              "    <tr>\n",
              "      <th>35997</th>\n",
              "      <td>10</td>\n",
              "      <td>2</td>\n",
              "      <td>0</td>\n",
              "      <td>7</td>\n",
              "      <td>5</td>\n",
              "      <td>1</td>\n",
              "      <td>2</td>\n",
              "      <td>5</td>\n",
              "      <td>4</td>\n",
              "      <td>35997</td>\n",
              "      <td>4</td>\n",
              "    </tr>\n",
              "    <tr>\n",
              "      <th>35998</th>\n",
              "      <td>4</td>\n",
              "      <td>2</td>\n",
              "      <td>1</td>\n",
              "      <td>7</td>\n",
              "      <td>4</td>\n",
              "      <td>1</td>\n",
              "      <td>0</td>\n",
              "      <td>5</td>\n",
              "      <td>0</td>\n",
              "      <td>35998</td>\n",
              "      <td>1</td>\n",
              "    </tr>\n",
              "  </tbody>\n",
              "</table>\n",
              "</div>"
            ],
            "text/plain": [
              "      Berat Akhir Jam per Minggu  ...     id  AgeGroup\n",
              "35994           2              2  ...  35994         2\n",
              "35995           7              2  ...  35995         2\n",
              "35996           7              2  ...  35996         2\n",
              "35997          10              2  ...  35997         4\n",
              "35998           4              2  ...  35998         1\n",
              "\n",
              "[5 rows x 11 columns]"
            ]
          },
          "metadata": {
            "tags": []
          },
          "execution_count": 258
        }
      ]
    },
    {
      "cell_type": "code",
      "metadata": {
        "id": "m1Kk0D5gMuVW",
        "colab_type": "code",
        "colab": {
          "base_uri": "https://localhost:8080/",
          "height": 34
        },
        "outputId": "9fb5715a-14ec-4908-8b75-60bba3f8f251"
      },
      "source": [
        "df_test.shape"
      ],
      "execution_count": 259,
      "outputs": [
        {
          "output_type": "execute_result",
          "data": {
            "text/plain": [
              "(9599, 11)"
            ]
          },
          "metadata": {
            "tags": []
          },
          "execution_count": 259
        }
      ]
    },
    {
      "cell_type": "code",
      "metadata": {
        "id": "mlNmh-fUMuVc",
        "colab_type": "code",
        "colab": {}
      },
      "source": [
        "X_test = StandardScaler().fit_transform(df_test)"
      ],
      "execution_count": 260,
      "outputs": []
    },
    {
      "cell_type": "code",
      "metadata": {
        "id": "OJnr3Qa6MuVf",
        "colab_type": "code",
        "colab": {}
      },
      "source": [
        "df_test_predict = random_forest.predict(X_test)"
      ],
      "execution_count": 261,
      "outputs": []
    },
    {
      "cell_type": "code",
      "metadata": {
        "id": "T54ExYLRMuVi",
        "colab_type": "code",
        "colab": {
          "base_uri": "https://localhost:8080/",
          "height": 34
        },
        "outputId": "7f9c57d5-20ac-4ca9-ff0c-726456e6573a"
      },
      "source": [
        "df_test_predict"
      ],
      "execution_count": 262,
      "outputs": [
        {
          "output_type": "execute_result",
          "data": {
            "text/plain": [
              "array(['0', '0', '0', ..., '0', '0', '0'], dtype=object)"
            ]
          },
          "metadata": {
            "tags": []
          },
          "execution_count": 262
        }
      ]
    },
    {
      "cell_type": "code",
      "metadata": {
        "id": "R1wKiiVdMuVl",
        "colab_type": "code",
        "colab": {}
      },
      "source": [
        "df_predict_series = pd.Series(df_test_predict, index=df_test['id'])"
      ],
      "execution_count": 263,
      "outputs": []
    },
    {
      "cell_type": "code",
      "metadata": {
        "id": "9qf6w1ZrMuVp",
        "colab_type": "code",
        "colab": {}
      },
      "source": [
        "result = df_test.join(df_predict_series.to_frame())"
      ],
      "execution_count": 264,
      "outputs": []
    },
    {
      "cell_type": "code",
      "metadata": {
        "id": "8MNAVhtxMuVs",
        "colab_type": "code",
        "colab": {}
      },
      "source": [
        "result.set_axis([*result.columns[:-1], 'Gaji'], axis=1, inplace=True)"
      ],
      "execution_count": 265,
      "outputs": []
    },
    {
      "cell_type": "code",
      "metadata": {
        "id": "bugZX_RYMuVy",
        "colab_type": "code",
        "colab": {
          "base_uri": "https://localhost:8080/",
          "height": 68
        },
        "outputId": "2486f9b7-8fe7-48cb-933b-4093761bea95"
      },
      "source": [
        "result['Gaji'].value_counts()"
      ],
      "execution_count": 266,
      "outputs": [
        {
          "output_type": "execute_result",
          "data": {
            "text/plain": [
              "0    8562\n",
              "1    1037\n",
              "Name: Gaji, dtype: int64"
            ]
          },
          "metadata": {
            "tags": []
          },
          "execution_count": 266
        }
      ]
    },
    {
      "cell_type": "code",
      "metadata": {
        "id": "-riq-5zjMuV1",
        "colab_type": "code",
        "colab": {
          "base_uri": "https://localhost:8080/",
          "height": 197
        },
        "outputId": "b6b72190-4413-473d-8fd8-454a89d30c60"
      },
      "source": [
        "result_csv = result[['id','Gaji']]\n",
        "result_csv.head()"
      ],
      "execution_count": 267,
      "outputs": [
        {
          "output_type": "execute_result",
          "data": {
            "text/html": [
              "<div>\n",
              "<style scoped>\n",
              "    .dataframe tbody tr th:only-of-type {\n",
              "        vertical-align: middle;\n",
              "    }\n",
              "\n",
              "    .dataframe tbody tr th {\n",
              "        vertical-align: top;\n",
              "    }\n",
              "\n",
              "    .dataframe thead th {\n",
              "        text-align: right;\n",
              "    }\n",
              "</style>\n",
              "<table border=\"1\" class=\"dataframe\">\n",
              "  <thead>\n",
              "    <tr style=\"text-align: right;\">\n",
              "      <th></th>\n",
              "      <th>id</th>\n",
              "      <th>Gaji</th>\n",
              "    </tr>\n",
              "  </thead>\n",
              "  <tbody>\n",
              "    <tr>\n",
              "      <th>35994</th>\n",
              "      <td>35994</td>\n",
              "      <td>0</td>\n",
              "    </tr>\n",
              "    <tr>\n",
              "      <th>35995</th>\n",
              "      <td>35995</td>\n",
              "      <td>0</td>\n",
              "    </tr>\n",
              "    <tr>\n",
              "      <th>35996</th>\n",
              "      <td>35996</td>\n",
              "      <td>0</td>\n",
              "    </tr>\n",
              "    <tr>\n",
              "      <th>35997</th>\n",
              "      <td>35997</td>\n",
              "      <td>1</td>\n",
              "    </tr>\n",
              "    <tr>\n",
              "      <th>35998</th>\n",
              "      <td>35998</td>\n",
              "      <td>0</td>\n",
              "    </tr>\n",
              "  </tbody>\n",
              "</table>\n",
              "</div>"
            ],
            "text/plain": [
              "          id Gaji\n",
              "35994  35994    0\n",
              "35995  35995    0\n",
              "35996  35996    0\n",
              "35997  35997    1\n",
              "35998  35998    0"
            ]
          },
          "metadata": {
            "tags": []
          },
          "execution_count": 267
        }
      ]
    },
    {
      "cell_type": "code",
      "metadata": {
        "id": "Cc0O50q8MuV8",
        "colab_type": "code",
        "colab": {}
      },
      "source": [
        "result_csv.to_csv(r'Submission.csv',index = False)"
      ],
      "execution_count": 268,
      "outputs": []
    },
    {
      "cell_type": "code",
      "metadata": {
        "id": "tOyH2LKaMuV_",
        "colab_type": "code",
        "colab": {
          "base_uri": "https://localhost:8080/",
          "height": 17
        },
        "outputId": "345c38ac-9a53-4591-fc65-9728d4a88a9e"
      },
      "source": [
        "from google.colab import files\n",
        "\n",
        "result_csv.to_csv('Submission.csv')\n",
        "files.download('Submission.csv')"
      ],
      "execution_count": 269,
      "outputs": [
        {
          "output_type": "display_data",
          "data": {
            "application/javascript": [
              "\n",
              "    async function download(id, filename, size) {\n",
              "      if (!google.colab.kernel.accessAllowed) {\n",
              "        return;\n",
              "      }\n",
              "      const div = document.createElement('div');\n",
              "      const label = document.createElement('label');\n",
              "      label.textContent = `Downloading \"${filename}\": `;\n",
              "      div.appendChild(label);\n",
              "      const progress = document.createElement('progress');\n",
              "      progress.max = size;\n",
              "      div.appendChild(progress);\n",
              "      document.body.appendChild(div);\n",
              "\n",
              "      const buffers = [];\n",
              "      let downloaded = 0;\n",
              "\n",
              "      const channel = await google.colab.kernel.comms.open(id);\n",
              "      // Send a message to notify the kernel that we're ready.\n",
              "      channel.send({})\n",
              "\n",
              "      for await (const message of channel.messages) {\n",
              "        // Send a message to notify the kernel that we're ready.\n",
              "        channel.send({})\n",
              "        if (message.buffers) {\n",
              "          for (const buffer of message.buffers) {\n",
              "            buffers.push(buffer);\n",
              "            downloaded += buffer.byteLength;\n",
              "            progress.value = downloaded;\n",
              "          }\n",
              "        }\n",
              "      }\n",
              "      const blob = new Blob(buffers, {type: 'application/binary'});\n",
              "      const a = document.createElement('a');\n",
              "      a.href = window.URL.createObjectURL(blob);\n",
              "      a.download = filename;\n",
              "      div.appendChild(a);\n",
              "      a.click();\n",
              "      div.remove();\n",
              "    }\n",
              "  "
            ],
            "text/plain": [
              "<IPython.core.display.Javascript object>"
            ]
          },
          "metadata": {
            "tags": []
          }
        },
        {
          "output_type": "display_data",
          "data": {
            "application/javascript": [
              "download(\"download_ebaa7ff3-1d09-432f-8509-571036b54a36\", \"Submission.csv\", 134395)"
            ],
            "text/plain": [
              "<IPython.core.display.Javascript object>"
            ]
          },
          "metadata": {
            "tags": []
          }
        }
      ]
    }
  ]
}