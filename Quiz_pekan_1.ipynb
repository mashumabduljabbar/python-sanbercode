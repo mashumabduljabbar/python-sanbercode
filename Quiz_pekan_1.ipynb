{
  "nbformat": 4,
  "nbformat_minor": 0,
  "metadata": {
    "colab": {
      "name": "Quiz_pekan_1.ipynb",
      "provenance": [],
      "authorship_tag": "ABX9TyMQyt+xFiS1uHlZtsNe6ld4"
    },
    "kernelspec": {
      "name": "python3",
      "display_name": "Python 3"
    }
  },
  "cells": [
    {
      "cell_type": "code",
      "metadata": {
        "id": "c3YrSFK5NU9G",
        "colab_type": "code",
        "colab": {
          "base_uri": "https://localhost:8080/",
          "height": 85
        },
        "outputId": "a7197b54-b4f7-46fa-92cf-936693693970"
      },
      "source": [
        "a = { \n",
        "  'A' : 1, \n",
        "  'B' : 2,\n",
        "  'C' : 3\n",
        "}\n",
        "\n",
        "b = [1,2,3]\n",
        "\n",
        "print(a.copy())\n",
        "print(b.copy())\n",
        "\n",
        "print(a.clear())\n",
        "print(b.clear())\n",
        "\n",
        "#Dua method yang sama-sama bisa dijalankan oleh Dictionary dan list"
      ],
      "execution_count": 2,
      "outputs": [
        {
          "output_type": "stream",
          "text": [
            "{'A': 1, 'B': 2, 'C': 3}\n",
            "[1, 2, 3]\n",
            "None\n",
            "None\n"
          ],
          "name": "stdout"
        }
      ]
    },
    {
      "cell_type": "code",
      "metadata": {
        "id": "tEunsr8KQGLP",
        "colab_type": "code",
        "colab": {
          "base_uri": "https://localhost:8080/",
          "height": 34
        },
        "outputId": "5511ed26-cc99-4ee2-e66d-4f00f7722e85"
      },
      "source": [
        "def ambil(duit, dompetbapak) :\n",
        "  dompetsaya = 0 \n",
        "  for uang in dompetbapak: \n",
        "    if dompetsaya == duit: \n",
        "      return\n",
        "    dompetsaya += 1\n",
        "    yield uang \n",
        "      \n",
        "def satuaja(dompetbapak) :\n",
        "  didompetsaya = set() \n",
        "  for uang in dompetbapak: \n",
        "    if uang in didompetsaya: \n",
        "      continue \n",
        "    yield uang\n",
        "    didompetsaya.add(uang) \n",
        "    \n",
        "def laksanakan (lembar) : \n",
        "  uang = [5, 10, 5, 20, 10, 50,1,5,2,100] \n",
        "  for duit in ambil(lembar, satuaja(uang)):\n",
        "    print (duit, end=' ')\n",
        "\n",
        "laksanakan(5)"
      ],
      "execution_count": 3,
      "outputs": [
        {
          "output_type": "stream",
          "text": [
            "5 10 20 50 1 "
          ],
          "name": "stdout"
        }
      ]
    },
    {
      "cell_type": "code",
      "metadata": {
        "id": "j6541hgzQSTu",
        "colab_type": "code",
        "colab": {
          "base_uri": "https://localhost:8080/",
          "height": 34
        },
        "outputId": "770e58b1-87dd-4073-ba2c-34afc6b7e7bc"
      },
      "source": [
        "makanan = [] \n",
        "def yoyoyo() : \n",
        "  makanan.append('ayam')\n",
        "  return makanan \n",
        "\n",
        "def ayayay() : \n",
        "  makanan.pop(200) \n",
        "  return makanan \n",
        "  \n",
        "def yeyeye() : \n",
        "  makanan.extend(['dimsum'])\n",
        "  return makanan \n",
        "  \n",
        "def ayeaye() : \n",
        "  makanan.insert (10, 'batagor')\n",
        "  return makanan\n",
        "\n",
        "for _ in range(1000):\n",
        "    yoyoyo()\n",
        "for _ in range(3):\n",
        "    ayayay()\n",
        "for _ in range(20):\n",
        "    yeyeye()\n",
        "for _ in range(2):\n",
        "    ayeaye()\n",
        "\n",
        "from collections import Counter\n",
        "print(Counter(makanan))"
      ],
      "execution_count": 4,
      "outputs": [
        {
          "output_type": "stream",
          "text": [
            "Counter({'ayam': 997, 'dimsum': 20, 'batagor': 2})\n"
          ],
          "name": "stdout"
        }
      ]
    },
    {
      "cell_type": "code",
      "metadata": {
        "id": "0edPOjruQaE-",
        "colab_type": "code",
        "colab": {
          "base_uri": "https://localhost:8080/",
          "height": 68
        },
        "outputId": "54564268-c437-4adc-f1f4-418ac40fa725"
      },
      "source": [
        "luas_tanah = { \n",
        "  'A' : 200, \n",
        "  'B' : 300,\n",
        "  'C' : 500\n",
        "}\n",
        "\n",
        "def luas(obj) :\n",
        "  for k, v in obj.items():\n",
        "    print(f'Luas tanah {k} adalah {v} meter persegi')\n",
        "    \n",
        "luas(luas_tanah)"
      ],
      "execution_count": 5,
      "outputs": [
        {
          "output_type": "stream",
          "text": [
            "Luas tanah A adalah 200 meter persegi\n",
            "Luas tanah B adalah 300 meter persegi\n",
            "Luas tanah C adalah 500 meter persegi\n"
          ],
          "name": "stdout"
        }
      ]
    }
  ]
}