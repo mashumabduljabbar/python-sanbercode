{
  "nbformat": 4,
  "nbformat_minor": 0,
  "metadata": {
    "kernelspec": {
      "display_name": "Python 3",
      "language": "python",
      "name": "python3"
    },
    "language_info": {
      "codemirror_mode": {
        "name": "ipython",
        "version": 3
      },
      "file_extension": ".py",
      "mimetype": "text/x-python",
      "name": "python",
      "nbconvert_exporter": "python",
      "pygments_lexer": "ipython3",
      "version": "3.7.7"
    },
    "colab": {
      "name": "Tugas_Pekan_2_Hari_2.ipynb",
      "provenance": [],
      "collapsed_sections": []
    }
  },
  "cells": [
    {
      "cell_type": "code",
      "metadata": {
        "id": "GyakVoXhBGrv",
        "colab_type": "code",
        "colab": {
          "base_uri": "https://localhost:8080/",
          "height": 204
        },
        "outputId": "30265d20-ac3b-42cc-e341-f108a867ee40"
      },
      "source": [
        "# Persiapan membuat data\n",
        "import pandas as pd\n",
        "import random\n",
        "\n",
        "pelajaran = ['Matematika', 'Fisika', 'Biologi', 'Kimia', 'Geologi', 'Ekonomi']\n",
        "kelas = ['12A', '12B', '12C', '12D']\n",
        "\n",
        "hasil_nilai = {\n",
        "    'siswa_id' : range(1, 21),\n",
        "    'pelajaran' : [random.choice(pelajaran) for i in range(20)],\n",
        "    'nilai' : [random.choice(range(0, 100)) for i in range(20)],\n",
        "    'jenis-kelamin' : [random.choice(['laki-laki', 'perempuan']) for i in range(20)],\n",
        "    'kelas' : [random.choice(kelas) for i in range(20)]\n",
        "}\n",
        "\n",
        "df = pd.DataFrame(hasil_nilai)\n",
        "df.head()"
      ],
      "execution_count": 1,
      "outputs": [
        {
          "output_type": "execute_result",
          "data": {
            "text/html": [
              "<div>\n",
              "<style scoped>\n",
              "    .dataframe tbody tr th:only-of-type {\n",
              "        vertical-align: middle;\n",
              "    }\n",
              "\n",
              "    .dataframe tbody tr th {\n",
              "        vertical-align: top;\n",
              "    }\n",
              "\n",
              "    .dataframe thead th {\n",
              "        text-align: right;\n",
              "    }\n",
              "</style>\n",
              "<table border=\"1\" class=\"dataframe\">\n",
              "  <thead>\n",
              "    <tr style=\"text-align: right;\">\n",
              "      <th></th>\n",
              "      <th>siswa_id</th>\n",
              "      <th>pelajaran</th>\n",
              "      <th>nilai</th>\n",
              "      <th>jenis-kelamin</th>\n",
              "      <th>kelas</th>\n",
              "    </tr>\n",
              "  </thead>\n",
              "  <tbody>\n",
              "    <tr>\n",
              "      <th>0</th>\n",
              "      <td>1</td>\n",
              "      <td>Geologi</td>\n",
              "      <td>38</td>\n",
              "      <td>perempuan</td>\n",
              "      <td>12D</td>\n",
              "    </tr>\n",
              "    <tr>\n",
              "      <th>1</th>\n",
              "      <td>2</td>\n",
              "      <td>Matematika</td>\n",
              "      <td>21</td>\n",
              "      <td>perempuan</td>\n",
              "      <td>12C</td>\n",
              "    </tr>\n",
              "    <tr>\n",
              "      <th>2</th>\n",
              "      <td>3</td>\n",
              "      <td>Biologi</td>\n",
              "      <td>28</td>\n",
              "      <td>laki-laki</td>\n",
              "      <td>12B</td>\n",
              "    </tr>\n",
              "    <tr>\n",
              "      <th>3</th>\n",
              "      <td>4</td>\n",
              "      <td>Kimia</td>\n",
              "      <td>95</td>\n",
              "      <td>perempuan</td>\n",
              "      <td>12D</td>\n",
              "    </tr>\n",
              "    <tr>\n",
              "      <th>4</th>\n",
              "      <td>5</td>\n",
              "      <td>Biologi</td>\n",
              "      <td>49</td>\n",
              "      <td>laki-laki</td>\n",
              "      <td>12C</td>\n",
              "    </tr>\n",
              "  </tbody>\n",
              "</table>\n",
              "</div>"
            ],
            "text/plain": [
              "   siswa_id   pelajaran  nilai jenis-kelamin kelas\n",
              "0         1     Geologi     38     perempuan   12D\n",
              "1         2  Matematika     21     perempuan   12C\n",
              "2         3     Biologi     28     laki-laki   12B\n",
              "3         4       Kimia     95     perempuan   12D\n",
              "4         5     Biologi     49     laki-laki   12C"
            ]
          },
          "metadata": {
            "tags": []
          },
          "execution_count": 1
        }
      ]
    },
    {
      "cell_type": "markdown",
      "metadata": {
        "id": "aNoScqypBGr5",
        "colab_type": "text"
      },
      "source": [
        "<h2>Soal 1: Indexing</h2>\n",
        "\n",
        "1. Lakukan indexing terhadap dataframe untuk mengakses column nilai dan kelas saja\n",
        "2. Lakukan indexing terhadap dataframe untuk mengakses row 5 sampai 10 beserta column pelajaran dan nilai"
      ]
    },
    {
      "cell_type": "code",
      "metadata": {
        "id": "rKmgvnS2BGr6",
        "colab_type": "code",
        "colab": {
          "base_uri": "https://localhost:8080/",
          "height": 374
        },
        "outputId": "be02a094-dc34-4724-c77b-f312b110fc8b"
      },
      "source": [
        "# Soal 1.1\n",
        "print(df.iloc[:,[2,4]])"
      ],
      "execution_count": 2,
      "outputs": [
        {
          "output_type": "stream",
          "text": [
            "    nilai kelas\n",
            "0      38   12D\n",
            "1      21   12C\n",
            "2      28   12B\n",
            "3      95   12D\n",
            "4      49   12C\n",
            "5      97   12C\n",
            "6      52   12C\n",
            "7      64   12C\n",
            "8      64   12B\n",
            "9      65   12C\n",
            "10     57   12D\n",
            "11     82   12D\n",
            "12     41   12B\n",
            "13     82   12A\n",
            "14     61   12C\n",
            "15     48   12A\n",
            "16     82   12A\n",
            "17     22   12A\n",
            "18     15   12A\n",
            "19     68   12C\n"
          ],
          "name": "stdout"
        }
      ]
    },
    {
      "cell_type": "code",
      "metadata": {
        "id": "snZsX3iN5btU",
        "colab_type": "code",
        "colab": {
          "base_uri": "https://localhost:8080/",
          "height": 136
        },
        "outputId": "6accb4d8-e1d0-4181-c02e-c024d1dc18a1"
      },
      "source": [
        "# Soal 1.2\n",
        "print(df.iloc[5:11,[1,2]])"
      ],
      "execution_count": 3,
      "outputs": [
        {
          "output_type": "stream",
          "text": [
            "   pelajaran  nilai\n",
            "5    Ekonomi     97\n",
            "6      Kimia     52\n",
            "7      Kimia     64\n",
            "8     Fisika     64\n",
            "9     Fisika     65\n",
            "10   Geologi     57\n"
          ],
          "name": "stdout"
        }
      ]
    },
    {
      "cell_type": "markdown",
      "metadata": {
        "id": "F55zUl5GBGr_",
        "colab_type": "text"
      },
      "source": [
        "<h2>Soal 2: Filter DataFrame Dengan Boolean</h2>\n",
        "\n",
        "1. Tampilkan semua data siswa pada mata pelajaran Ekonomi dan Fisika\n",
        "2. Tampilkan semua data siswa yang mempunyai nilai lebih dari 50 di mata pelajaran Kimia \n",
        "3. Tampilkan semua data yang mempunyai nilai lebih dari 70, berjnis kelamin perempuan dan di kelas 12C"
      ]
    },
    {
      "cell_type": "code",
      "metadata": {
        "id": "eB5oSf_KBGsA",
        "colab_type": "code",
        "colab": {
          "base_uri": "https://localhost:8080/",
          "height": 374
        },
        "outputId": "b89dca4a-c9a7-47f8-edad-4fd7b5637a90"
      },
      "source": [
        "# Soal 2.1\n",
        "ekonomi = df.pelajaran == 'Ekonomi'\n",
        "fisika =  df.pelajaran == 'Fisika'\n",
        "print((ekonomi) & (fisika))"
      ],
      "execution_count": 4,
      "outputs": [
        {
          "output_type": "stream",
          "text": [
            "0     False\n",
            "1     False\n",
            "2     False\n",
            "3     False\n",
            "4     False\n",
            "5     False\n",
            "6     False\n",
            "7     False\n",
            "8     False\n",
            "9     False\n",
            "10    False\n",
            "11    False\n",
            "12    False\n",
            "13    False\n",
            "14    False\n",
            "15    False\n",
            "16    False\n",
            "17    False\n",
            "18    False\n",
            "19    False\n",
            "Name: pelajaran, dtype: bool\n"
          ],
          "name": "stdout"
        }
      ]
    },
    {
      "cell_type": "code",
      "metadata": {
        "id": "A6jpBHmn5lLM",
        "colab_type": "code",
        "colab": {
          "base_uri": "https://localhost:8080/",
          "height": 374
        },
        "outputId": "576cb10b-4352-4f9f-badc-6c284d8b64db"
      },
      "source": [
        "# Soal 2.2\n",
        "nilai = df.nilai > 50\n",
        "kimia =  df.pelajaran == 'Kimia'\n",
        "print((nilai) & (kimia))"
      ],
      "execution_count": 5,
      "outputs": [
        {
          "output_type": "stream",
          "text": [
            "0     False\n",
            "1     False\n",
            "2     False\n",
            "3      True\n",
            "4     False\n",
            "5     False\n",
            "6      True\n",
            "7      True\n",
            "8     False\n",
            "9     False\n",
            "10    False\n",
            "11    False\n",
            "12    False\n",
            "13    False\n",
            "14     True\n",
            "15    False\n",
            "16    False\n",
            "17    False\n",
            "18    False\n",
            "19    False\n",
            "dtype: bool\n"
          ],
          "name": "stdout"
        }
      ]
    },
    {
      "cell_type": "code",
      "metadata": {
        "id": "IipZD2cO7tYq",
        "colab_type": "code",
        "colab": {
          "base_uri": "https://localhost:8080/",
          "height": 374
        },
        "outputId": "deb49204-529a-481b-d6a4-5478b623f7aa"
      },
      "source": [
        "# Soal 2.3\n",
        "nilai = df.nilai > 70\n",
        "kimia =  df['jenis-kelamin'] == 'Perempuan'\n",
        "kimia =  df.kelas == '12C'\n",
        "print((nilai) & (kimia))"
      ],
      "execution_count": 6,
      "outputs": [
        {
          "output_type": "stream",
          "text": [
            "0     False\n",
            "1     False\n",
            "2     False\n",
            "3     False\n",
            "4     False\n",
            "5      True\n",
            "6     False\n",
            "7     False\n",
            "8     False\n",
            "9     False\n",
            "10    False\n",
            "11    False\n",
            "12    False\n",
            "13    False\n",
            "14    False\n",
            "15    False\n",
            "16    False\n",
            "17    False\n",
            "18    False\n",
            "19    False\n",
            "dtype: bool\n"
          ],
          "name": "stdout"
        }
      ]
    },
    {
      "cell_type": "markdown",
      "metadata": {
        "id": "6Od6R3H1BGsE",
        "colab_type": "text"
      },
      "source": [
        "<h2>Soal 3: Data Transformation</h2>\n",
        "\n",
        "lakukan data transformasi terhadap column 'nilai' dengan fungsi transformasi, berikut rumus dari normalisasi\n",
        "\n",
        "![alt text](https://drive.google.com/uc?id=1wed-EbRSTA0JP1ceDp6lcKBqH2yJ4aa3)"
      ]
    },
    {
      "cell_type": "code",
      "metadata": {
        "id": "qeV_iH8nBGsF",
        "colab_type": "code",
        "colab": {
          "base_uri": "https://localhost:8080/",
          "height": 374
        },
        "outputId": "5d6e246f-8d87-4371-cbc7-d8cab0fa9243"
      },
      "source": [
        "# code here\n",
        "x = df.nilai\n",
        "y = x - x.min()\n",
        "z = x.max() - x.min()\n",
        "print(y/z)"
      ],
      "execution_count": 7,
      "outputs": [
        {
          "output_type": "stream",
          "text": [
            "0     0.280488\n",
            "1     0.073171\n",
            "2     0.158537\n",
            "3     0.975610\n",
            "4     0.414634\n",
            "5     1.000000\n",
            "6     0.451220\n",
            "7     0.597561\n",
            "8     0.597561\n",
            "9     0.609756\n",
            "10    0.512195\n",
            "11    0.817073\n",
            "12    0.317073\n",
            "13    0.817073\n",
            "14    0.560976\n",
            "15    0.402439\n",
            "16    0.817073\n",
            "17    0.085366\n",
            "18    0.000000\n",
            "19    0.646341\n",
            "Name: nilai, dtype: float64\n"
          ],
          "name": "stdout"
        }
      ]
    }
  ]
}