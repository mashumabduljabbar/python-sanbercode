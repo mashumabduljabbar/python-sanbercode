{
  "nbformat": 4,
  "nbformat_minor": 0,
  "metadata": {
    "kernelspec": {
      "display_name": "Python 3",
      "language": "python",
      "name": "python3"
    },
    "language_info": {
      "codemirror_mode": {
        "name": "ipython",
        "version": 3
      },
      "file_extension": ".py",
      "mimetype": "text/x-python",
      "name": "python",
      "nbconvert_exporter": "python",
      "pygments_lexer": "ipython3",
      "version": "3.7.6"
    },
    "colab": {
      "name": "Tugas Hari 4 Pekan 4.ipynb",
      "provenance": [],
      "collapsed_sections": [],
      "include_colab_link": true
    }
  },
  "cells": [
    {
      "cell_type": "markdown",
      "metadata": {
        "id": "view-in-github",
        "colab_type": "text"
      },
      "source": [
        "<a href=\"https://colab.research.google.com/github/multimediary/python-sanbercode/blob/master/Tugas_Hari_4_Pekan_4.ipynb\" target=\"_parent\"><img src=\"https://colab.research.google.com/assets/colab-badge.svg\" alt=\"Open In Colab\"/></a>"
      ]
    },
    {
      "cell_type": "markdown",
      "metadata": {
        "id": "gAq0hQxAe5cj",
        "colab_type": "text"
      },
      "source": [
        "<h1>Soal 1: Pemahaman</h1>\n",
        "\n",
        "1. Sebutkan apa saja yang termasuk preprocessing data!\n",
        "2. Jelaskan beberapa cara imputing missing value!\n",
        "3. Kapan kita perlu melakukan feature centering dan scaling?\n",
        "4. Bagaimana Data Science Workflow?"
      ]
    },
    {
      "cell_type": "markdown",
      "metadata": {
        "id": "AdcIRws7fTYz",
        "colab_type": "text"
      },
      "source": [
        "Jawab:"
      ]
    },
    {
      "cell_type": "markdown",
      "metadata": {
        "id": "Q1zThs4qFjGz",
        "colab_type": "text"
      },
      "source": [
        "1) Proses preprocessing meliputi (1) case folding, (2) tokenizing, (3) filtering, dan (4) stemming<br>\n",
        "2) Beberapa cara inputing missing valu adalah 1) Mengabaikan dan membuang missing data, 2) Estimasi parameter, 3. Imputasi<br>\n",
        "3) Sebagian besar model Machine Learning berdasarkan pada perhitungan Euclidean Distance antar 2 poin, biasanya hasil perhitungan antar variabel yang digunakan akan memiliki jarak (distance) yang sangat jauh. Disinilah proses Feature Scaling dibutuhkan. Feature Scaling membuat numerical data pada dataset memiliki rentang nilai (scale) yang sama. Tidak ada lagi satu variabel data yang mendominasi variabel data lainnya.<br>\n",
        "4) Persiapan : Data dikumpulkan dan dibersihkan, Eksperimentasi : Di sinilah hipotesis dihasilkan, data divisualisasikan, dan model dihasilkan,  Ini memakan waktu jauh lebih sedikit daripada Persiapan.\n",
        "Distribusi : Laporan dihasilkan dengan mendokumentasikan hasil."
      ]
    },
    {
      "cell_type": "markdown",
      "metadata": {
        "id": "xFmBmZcle5dk",
        "colab_type": "text"
      },
      "source": [
        "<h1>Soal 2: Pengaplikasian</h1>\n",
        "\n",
        "Selamat, sampai tahap ini kalian telah belajar banyak tentang data science, dari mulai python, data manipulasi, visualisasi, dan pembuatan model. Sekarang saatnya untuk mengaplikasikan semuanya.\n",
        "\n",
        "Download dan gunakan data [titanic.csv](https://drive.google.com/uc?export=download&id=15-XQkmqj2UlFQH7rASJH1oxWST6o9mbm) sebagai data untuk pembuatan model ML. Pahami betul data ini dengan melakukan EDA (Explolatory Data Analaysis), Visualisasi, Data Analysis, Preprocessing Data, dan Modeling.\n",
        "\n",
        "<b>(Optional)</b> Download dan gunakan data [titanic_test.csv](https://drive.google.com/uc?export=download&id=15-XQkmqj2UlFQH7rASJH1oxWST6o9mbm) untuk mengetest model kalian dengan melakukan prediksi terhadap data tersebut. Submit hasil prediksinya ke kaggle dan lihat scorenya. https://www.kaggle.com/c/titanic/submit\n",
        "\n",
        "![alt text](https://drive.google.com/uc?id=1SyflO2YeuCdYhxwPF6CAtMeaNN1qTaFx)"
      ]
    },
    {
      "cell_type": "code",
      "metadata": {
        "id": "NIR8VbbJe5d6",
        "colab_type": "code",
        "colab": {}
      },
      "source": [
        "# Code here"
      ],
      "execution_count": null,
      "outputs": []
    }
  ]
}
