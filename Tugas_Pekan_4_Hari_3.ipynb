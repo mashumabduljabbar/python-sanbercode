{
  "nbformat": 4,
  "nbformat_minor": 0,
  "metadata": {
    "kernelspec": {
      "display_name": "Python 3",
      "language": "python",
      "name": "python3"
    },
    "language_info": {
      "codemirror_mode": {
        "name": "ipython",
        "version": 3
      },
      "file_extension": ".py",
      "mimetype": "text/x-python",
      "name": "python",
      "nbconvert_exporter": "python",
      "pygments_lexer": "ipython3",
      "version": "3.7.6"
    },
    "colab": {
      "name": "Tugas Pekan 4 Hari 3.ipynb",
      "provenance": [],
      "collapsed_sections": [],
      "include_colab_link": true
    }
  },
  "cells": [
    {
      "cell_type": "markdown",
      "metadata": {
        "id": "view-in-github",
        "colab_type": "text"
      },
      "source": [
        "<a href=\"https://colab.research.google.com/github/multimediary/python-sanbercode/blob/master/Tugas_Pekan_4_Hari_3.ipynb\" target=\"_parent\"><img src=\"https://colab.research.google.com/assets/colab-badge.svg\" alt=\"Open In Colab\"/></a>"
      ]
    },
    {
      "cell_type": "markdown",
      "metadata": {
        "id": "PrQVcF-ldGWQ",
        "colab_type": "text"
      },
      "source": [
        "<h1> Soal 1: Pemahaman Tentang Model Evaluasi</h1>\n",
        "\n",
        "Jawab pertanyaan di bawah ini dengan bahasa masing-masing?\n",
        "\n",
        "1. Apa perbedaan antara data latih, data validasi, dan data test?\n",
        "2. Bagaimana cara kita menilai performa suatu model?\n",
        "3. Apa itu Confusion Matrix? Jelaskan secara lengkap!\n",
        "4. Apa itu Classification Report dari sklearn?"
      ]
    },
    {
      "cell_type": "markdown",
      "metadata": {
        "id": "sr6D5UIhgpwO",
        "colab_type": "text"
      },
      "source": [
        "Jawab:<br>\n",
        "\n",
        "1. Data Training, seperti namanya, data yang digunakan untuk training model. Data Validation, digunakan untuk proses validasi model dan mencegah overfitting. Data Testing, digunakan untuk testing model, sebagai simulasi penggunaan model pada dunia nyata. Data testing tidak boleh pernah dilihat oleh model sebelumnya.\n",
        "2. Untuk mengevaluasi kinerja suatu model biasanya ditentukan oleh akurasi. Banyak cara lain yang dapat digunakan untuk menilai performa dari suatu model, diantaranya:  Klasifikasi : accuracy, precision, recall, F1-score, ROC, AUC, dan lainnya. Pada Regresi (regression metrics) : MSE, MAE, dan lainnya.\n",
        "dan pada Klastering (clustering metrics): Silhouette Coefficient, Davies-Bouldin Index, Dunn Index, dan lainnya.\n",
        "3. Confusion matrix juga sering disebut error matrix. Pada dasarnya confusion matrix memberikan informasi perbandingan hasil klasifikasi yang dilakukan oleh sistem (model) dengan hasil klasifikasi sebenarnya. Confusion matrix berbentuk tabel matriks yang menggambarkan kinerja model klasifikasi pada serangkaian data uji yang nilai sebenarnya diketahui.\n",
        "4. Classification Report menampilkan skor precision, recall, f1-score dan support untuk mendukung interpretasi dan deteksi masalah yang lebih mudah, laporan ini mengintegrasikan skor numerik dengan color-coded heatmap. Semua color-coded heatmap dalam kisaran untuk memudahkan perbandingan model klasifikasi di berbagai laporan klasifikasi. "
      ]
    },
    {
      "cell_type": "markdown",
      "metadata": {
        "id": "uY-s7-KDgrkV",
        "colab_type": "text"
      },
      "source": [
        "---"
      ]
    },
    {
      "cell_type": "markdown",
      "metadata": {
        "id": "Fv2TVsgAdGWY",
        "colab_type": "text"
      },
      "source": [
        "<h1>Soal 2: Aplikasi Model Evaluasi</h1>\n",
        "\n",
        "Kali ini kita akan menggunakan data untuk memprediksi kelangsungan hidup pasien yang telah mengalami operasi payudara. Dengan informasi yang dimiliki terkait pasien, kita akan membuat model untuk memprediksi apakah pasien akan bertahan hidup dalam waktu lebih dari 5 tahun atau tidak.\n",
        "\n",
        "Lebih Lengkapnya kalian bisa membaca informasi tentang dataset di link berikut: https://raw.githubusercontent.com/jbrownlee/Datasets/master/haberman.names\n",
        "\n",
        "Buat model Klasifikasi (Model/Algoritma Bebas) untuk memprediksi status pasien dengan ketentuan sebagai berikut:\n",
        "\n",
        "1. Bagi kedua data ini menjadi data training dan data test dengan test_size=0.25.\n",
        "3. Pelajar tentang metrics roc_auc_score kemudian buatlah model dan evaluasi dengan menggunakan teknik cross-validation dengan scoring 'roc_auc'. Baca https://scikit-learn.org/stable/modules/generated/sklearn.model_selection.cross_val_score.html untuk menggunakan metric roc_auc saat cross-validation.\n",
        "3. Berapa score rata2 dari model dengan teknik cross-validation tersebut?\n",
        "4. Prediksi data test dengan model yang telah kalian buat!\n",
        "5. Bagaimana hasil confusion matrix dari hasil prediksi tersebut?\n",
        "6. Bagaimana classification report dari hasil prediksi tersebut?\n",
        "5. Seberapa baik model anda dalam memprediksi seorang pasien mempunyai status positive?\n",
        "6. Seberapa baik model anda dalam memprediksi seorang pasien mempunyai status negatif?"
      ]
    },
    {
      "cell_type": "code",
      "metadata": {
        "id": "g4UqaWyPdGWj",
        "colab_type": "code",
        "colab": {}
      },
      "source": [
        "import pandas as pd\n",
        "\n",
        "url = 'https://raw.githubusercontent.com/jbrownlee/Datasets/master/haberman.csv'\n",
        "list_cols = ['Age', \"Patient's Years\", \"N_positive_ax\", \"survival_status\"]\n",
        "df = pd.read_csv(url, names=list_cols)"
      ],
      "execution_count": null,
      "outputs": []
    },
    {
      "cell_type": "code",
      "metadata": {
        "id": "YrbPNGtHdGXV",
        "colab_type": "code",
        "colab": {
          "base_uri": "https://localhost:8080/",
          "height": 197
        },
        "outputId": "08d259ea-4165-4f3d-d476-8229bd10195c"
      },
      "source": [
        "df.head()"
      ],
      "execution_count": null,
      "outputs": [
        {
          "output_type": "execute_result",
          "data": {
            "text/html": [
              "<div>\n",
              "<style scoped>\n",
              "    .dataframe tbody tr th:only-of-type {\n",
              "        vertical-align: middle;\n",
              "    }\n",
              "\n",
              "    .dataframe tbody tr th {\n",
              "        vertical-align: top;\n",
              "    }\n",
              "\n",
              "    .dataframe thead th {\n",
              "        text-align: right;\n",
              "    }\n",
              "</style>\n",
              "<table border=\"1\" class=\"dataframe\">\n",
              "  <thead>\n",
              "    <tr style=\"text-align: right;\">\n",
              "      <th></th>\n",
              "      <th>Age</th>\n",
              "      <th>Patient's Years</th>\n",
              "      <th>N_positive_ax</th>\n",
              "      <th>survival_status</th>\n",
              "    </tr>\n",
              "  </thead>\n",
              "  <tbody>\n",
              "    <tr>\n",
              "      <th>0</th>\n",
              "      <td>30</td>\n",
              "      <td>64</td>\n",
              "      <td>1</td>\n",
              "      <td>1</td>\n",
              "    </tr>\n",
              "    <tr>\n",
              "      <th>1</th>\n",
              "      <td>30</td>\n",
              "      <td>62</td>\n",
              "      <td>3</td>\n",
              "      <td>1</td>\n",
              "    </tr>\n",
              "    <tr>\n",
              "      <th>2</th>\n",
              "      <td>30</td>\n",
              "      <td>65</td>\n",
              "      <td>0</td>\n",
              "      <td>1</td>\n",
              "    </tr>\n",
              "    <tr>\n",
              "      <th>3</th>\n",
              "      <td>31</td>\n",
              "      <td>59</td>\n",
              "      <td>2</td>\n",
              "      <td>1</td>\n",
              "    </tr>\n",
              "    <tr>\n",
              "      <th>4</th>\n",
              "      <td>31</td>\n",
              "      <td>65</td>\n",
              "      <td>4</td>\n",
              "      <td>1</td>\n",
              "    </tr>\n",
              "  </tbody>\n",
              "</table>\n",
              "</div>"
            ],
            "text/plain": [
              "   Age  Patient's Years  N_positive_ax  survival_status\n",
              "0   30               64              1                1\n",
              "1   30               62              3                1\n",
              "2   30               65              0                1\n",
              "3   31               59              2                1\n",
              "4   31               65              4                1"
            ]
          },
          "metadata": {
            "tags": []
          },
          "execution_count": 5
        }
      ]
    },
    {
      "cell_type": "code",
      "metadata": {
        "id": "-dxYNPg7dGX4",
        "colab_type": "code",
        "colab": {
          "base_uri": "https://localhost:8080/",
          "height": 68
        },
        "outputId": "af630e3b-e13f-4cec-8c77-7606e4a7d07f"
      },
      "source": [
        "df['survival_status'].value_counts()"
      ],
      "execution_count": null,
      "outputs": [
        {
          "output_type": "execute_result",
          "data": {
            "text/plain": [
              "1    225\n",
              "2     81\n",
              "Name: survival_status, dtype: int64"
            ]
          },
          "metadata": {
            "tags": []
          },
          "execution_count": 6
        }
      ]
    },
    {
      "cell_type": "code",
      "metadata": {
        "id": "8W2amvZgdGYX",
        "colab_type": "code",
        "colab": {}
      },
      "source": [
        "# Code here\n",
        "from sklearn.model_selection import train_test_split\n",
        "from sklearn.model_selection import cross_val_score\n",
        "from sklearn.neighbors import KNeighborsClassifier\n",
        "\n",
        "X = df.drop('survival_status', axis=1)\n",
        "y = df['survival_status']"
      ],
      "execution_count": null,
      "outputs": []
    },
    {
      "cell_type": "markdown",
      "metadata": {
        "id": "NUHLp6RpH_Im",
        "colab_type": "text"
      },
      "source": [
        "Score rata2 dari model dengan teknik cross-validation = "
      ]
    },
    {
      "cell_type": "code",
      "metadata": {
        "id": "wWg-eR26IGNq",
        "colab_type": "code",
        "colab": {
          "base_uri": "https://localhost:8080/",
          "height": 34
        },
        "outputId": "c323abbd-5a41-4bbe-cd9f-cbc87d1c0af7"
      },
      "source": [
        "# Code here\n",
        "model_knn = KNeighborsClassifier(n_neighbors=20)\n",
        "cv_score = cross_val_score(model_knn, X, y, cv=10, scoring='roc_auc')\n",
        "cv_score.mean()"
      ],
      "execution_count": null,
      "outputs": [
        {
          "output_type": "execute_result",
          "data": {
            "text/plain": [
              "0.702084705753184"
            ]
          },
          "metadata": {
            "tags": []
          },
          "execution_count": 8
        }
      ]
    },
    {
      "cell_type": "markdown",
      "metadata": {
        "id": "xf2UcPt1IIgZ",
        "colab_type": "text"
      },
      "source": [
        "\n",
        "Prediksi data test dengan model yang telah dibuat = "
      ]
    },
    {
      "cell_type": "code",
      "metadata": {
        "id": "w1y2BjM2IH9i",
        "colab_type": "code",
        "colab": {
          "base_uri": "https://localhost:8080/",
          "height": 51
        },
        "outputId": "67de223a-0a4c-4bd0-f44b-37df4b78dcd0"
      },
      "source": [
        "# Code here\n",
        "X_train, X_test, y_train, y_test = train_test_split(X, y, test_size=0.25, random_state=21, stratify=y)\n",
        "\n",
        "model_knn.fit(X_train, y_train)\n",
        "y_predict_train = model_knn.predict(X_train)\n",
        "y_predict_test = model_knn.predict(X_test)\n",
        "\n",
        "from sklearn.metrics import accuracy_score \n",
        "print('Score train : ', accuracy_score(y_train, y_predict_train))\n",
        "print('Score test : ', accuracy_score(y_test, y_predict_test))"
      ],
      "execution_count": null,
      "outputs": [
        {
          "output_type": "stream",
          "text": [
            "Score train :  0.7729257641921398\n",
            "Score test :  0.7272727272727273\n"
          ],
          "name": "stdout"
        }
      ]
    },
    {
      "cell_type": "markdown",
      "metadata": {
        "id": "t_NgrEuBIMb_",
        "colab_type": "text"
      },
      "source": [
        "\n",
        "Hasil confusion matrix dari hasil prediksi tersebut ="
      ]
    },
    {
      "cell_type": "code",
      "metadata": {
        "id": "Ig4vLsDdIQDF",
        "colab_type": "code",
        "colab": {
          "base_uri": "https://localhost:8080/",
          "height": 51
        },
        "outputId": "9c275077-990a-47fe-f530-9815b9bfd822"
      },
      "source": [
        "# Code here\n",
        "from sklearn.metrics import confusion_matrix, classification_report\n",
        "confusion_matrix = confusion_matrix(y_test, y_predict_test)\n",
        "print(confusion_matrix)"
      ],
      "execution_count": null,
      "outputs": [
        {
          "output_type": "stream",
          "text": [
            "[[50  7]\n",
            " [14  6]]\n"
          ],
          "name": "stdout"
        }
      ]
    },
    {
      "cell_type": "markdown",
      "metadata": {
        "id": "ki3lqdSgITGI",
        "colab_type": "text"
      },
      "source": [
        "\n",
        "Classification report dari hasil prediksi tersebut ="
      ]
    },
    {
      "cell_type": "code",
      "metadata": {
        "id": "T63xQmi0IXlC",
        "colab_type": "code",
        "colab": {
          "base_uri": "https://localhost:8080/",
          "height": 170
        },
        "outputId": "21289499-7680-4d8f-bd1a-549c2339681c"
      },
      "source": [
        "# Code here\n",
        "classification_report = classification_report(y_test, y_predict_test)\n",
        "print(classification_report)"
      ],
      "execution_count": null,
      "outputs": [
        {
          "output_type": "stream",
          "text": [
            "              precision    recall  f1-score   support\n",
            "\n",
            "           1       0.78      0.88      0.83        57\n",
            "           2       0.46      0.30      0.36        20\n",
            "\n",
            "    accuracy                           0.73        77\n",
            "   macro avg       0.62      0.59      0.60        77\n",
            "weighted avg       0.70      0.73      0.71        77\n",
            "\n"
          ],
          "name": "stdout"
        }
      ]
    },
    {
      "cell_type": "markdown",
      "metadata": {
        "id": "TXqOAgEsIZYH",
        "colab_type": "text"
      },
      "source": [
        "\n",
        "Seberapa baik model anda dalam memprediksi seorang pasien mempunyai status positive = model ini cukup baik dengan hasi Score  precission 78%, recall 88%,  f1-score 83% dan support 57."
      ]
    },
    {
      "cell_type": "markdown",
      "metadata": {
        "id": "6wrwWQWiIdrh",
        "colab_type": "text"
      },
      "source": [
        "\n",
        "Seberapa baik model anda dalam memprediksi seorang pasien mempunyai status negatif = model ini tidak cukup baik karena menghasilkan score rendah precission 46%, recall 30%, f1-score 36% dan support 20."
      ]
    },
    {
      "cell_type": "markdown",
      "metadata": {
        "id": "I6v_dgoN-7wL",
        "colab_type": "text"
      },
      "source": [
        "---"
      ]
    },
    {
      "cell_type": "markdown",
      "metadata": {
        "id": "teekoyIw--g2",
        "colab_type": "text"
      },
      "source": [
        "<h1> Soal 3: Pemahaman Tentang Model Selection</h1>\n",
        "\n",
        "Jelaskan dengan bahasa sendiri!\n",
        "\n",
        "1. Apa itu Bias dan Variance?\n",
        "2. Apa itu Overfitting dan Underfitting?\n",
        "3. Apa yang bisa kita lakukan untuk mengatur kompleksitas dari model?\n",
        "4. Bagaimana model yang baik?\n",
        "5. Kapan kita menggunakan GridSearchcv dan kapan menggunakan RandomizedSearchCV?"
      ]
    },
    {
      "cell_type": "markdown",
      "metadata": {
        "id": "4a1l4RNf_FcU",
        "colab_type": "text"
      },
      "source": [
        "Jawab:<br>\n",
        "1. Bias adalah perbedaan antara rata rata hasil prediksi dari model ML yang kita develop dengan data nilai yang sebenarnya. Variance adalah variabel dari prediksi model untuk data tertentu dimana memberikan kita informasi perserbaran data kita. \n",
        "2. Overfitting terjadi karena model yang dibuat terlalu fokus pada training dataset tertentu, hingga tidak bisa melakukan prediksi dengan tepat jika diberikan dataset lain yang serupa. Overfitting biasanya akan menangkap data noise yang seharusnya diabaikan. Overfitting model akan memiliki low loss dan akurasi rendah. Underfitting terjadi ketika model tidak bisa melihat logika dibelakang data, hingga tidak bisa melakukan prediksi dengan tepat, baik untuk dataset training maupun dataset lain yang serupa. Underfitting model akan memiliki high loss dan akurasi rendah.\n",
        "3. Untuk mengatur kompleksitas dari model Kita bisa menyederhanakan fitur-fitur yang di-gunakan,  misalkan  dengan  memilih  subset  fitur  awal,  atas  dasar  beberapa alasan seperti : Menyederhanakan data/model agar lebih mudah dianalisi, Mengurangi waktut raining, dan  Menghapus fitur yang tidak informatif.\n",
        "4. Model yang baik yaitu model yang bisa memiliki ketepatan atau akurasi yang tinggi saat digunakan dalam pengujian data training ke data testing.\n",
        "5. Terkadang hasil akurasi dari pembuatan model sangat kurang dari target. Bukan hanya masalah dataset dan preprocessing yang kurang baik, tapi pemilihan parameter untuk pengklasifikasi pun dapat menjadi salah satu penyebabnya. Kita dapat menggunakan GridSearchCV untuk Mencari Parameter Optimal Pengklasifikasi Scikit-Learn yang ingin digunakan. Sedangkan RandomizedSearchCV digunakan untuk mengimplementasikan metode \"fit\" dan metode \"predict\" seperti classifier apa pun kecuali bahwa parameter classifier yang digunakan untuk memprediksi optimalisasi oleh cross-validation.\n"
      ]
    },
    {
      "cell_type": "markdown",
      "metadata": {
        "id": "Svj_cgxF_IZv",
        "colab_type": "text"
      },
      "source": [
        "---"
      ]
    },
    {
      "cell_type": "markdown",
      "metadata": {
        "id": "Hkh-PeRL_LZp",
        "colab_type": "text"
      },
      "source": [
        "<h1> Soal 4: Aplikasi Model Selection</h1>\n",
        "\n",
        "1. Bagi kedua data berikut ini menjadi data training dan data test dengan test_size=0.25.\n",
        "2. Gunakan algoritma KNN sebagai model classifier.\n",
        "3. Gunakan fungsi GridSearchCV untuk hyperparameter tuning dan model selection.\n",
        "4. jumlah fold bebas!, gunakan scoring 'roc_auc'\n",
        "5. Definisikan kombinasi hyperparameter untuk model selection dengan GridSearchCV. kombinasi Hyperparameter bebas, baca lagi dokumentasi KNN di link berikut https://scikit-learn.org/stable/modules/generated/sklearn.neighbors.KNeighborsClassifier.html untuk memahami lagi jenis2 hyperparameter di algorithma KNN.\n",
        "6. Latih model terhadap data training.\n",
        "7. Apa hyperparameter terbaik untuk kombinasi hyperparameter kalian?\n",
        "8. Berapa score validasi terbaik dari model tersebut?\n",
        "9. Prediksi probabilitasi output dari model yang telah di buat terhadap data test. note : gunakan method .predict_proba() untuk menghasilkan output probabilitas\n",
        "10. Perhatikan bahwa hasil prediksi ada 2, dimana masing2 adalah nilai probabilitas untuk setiap class label. Ambil nilai probabilitas pasien phositive meninggal dalam waktu kurang dari 5 tahun. note : gunakan bantuan attirubte .classes_ untuk mengetahui urutan label dari hasil prediksi probabilitas.\n",
        "11. Berapa nilai score roc_auc untuk data test?\n",
        "12. Apakah model anda termasuk baik, overtting, atau underfitting?\n",
        "13. Ulangi tahap di atas namun kali ini menggunakan algoritma DecisionTreeClassifier dan kalian bisa menggunakan RandomizedSearchCV apabila process training lama. pelajari algoritma DecisionTreeClassifier di linkberikut: https://scikit-learn.org/stable/modules/generated/sklearn.tree.DecisionTreeClassifier.html?highlight=decisiontreeclassifier#sklearn.tree.DecisionTreeClassifier\n",
        "14. Bandingkan scorenya dengan Algoritma KNN, mana yang lebih baik?\n",
        "\n",
        "Note : Data Science adalah experiment, sangat di dimungkinkan memerlukan beberapa kali percobaan untuk mendapatkan hasil yang terbaik! Happy Coding :)"
      ]
    },
    {
      "cell_type": "code",
      "metadata": {
        "id": "l_zK8Mqb-9Z6",
        "colab_type": "code",
        "colab": {}
      },
      "source": [
        "import pandas as pd\n",
        "\n",
        "url = 'https://raw.githubusercontent.com/jbrownlee/Datasets/master/haberman.csv'\n",
        "list_cols = ['Age', \"Patient's Years\", \"N_positive_ax\", \"survival_status\"]\n",
        "df = pd.read_csv(url, names=list_cols)"
      ],
      "execution_count": null,
      "outputs": []
    },
    {
      "cell_type": "code",
      "metadata": {
        "id": "qb-AD43R_V_d",
        "colab_type": "code",
        "colab": {
          "base_uri": "https://localhost:8080/",
          "height": 197
        },
        "outputId": "7fe9d394-196c-40b0-a15c-ac1a0b3f3e79"
      },
      "source": [
        "df.head()"
      ],
      "execution_count": null,
      "outputs": [
        {
          "output_type": "execute_result",
          "data": {
            "text/html": [
              "<div>\n",
              "<style scoped>\n",
              "    .dataframe tbody tr th:only-of-type {\n",
              "        vertical-align: middle;\n",
              "    }\n",
              "\n",
              "    .dataframe tbody tr th {\n",
              "        vertical-align: top;\n",
              "    }\n",
              "\n",
              "    .dataframe thead th {\n",
              "        text-align: right;\n",
              "    }\n",
              "</style>\n",
              "<table border=\"1\" class=\"dataframe\">\n",
              "  <thead>\n",
              "    <tr style=\"text-align: right;\">\n",
              "      <th></th>\n",
              "      <th>Age</th>\n",
              "      <th>Patient's Years</th>\n",
              "      <th>N_positive_ax</th>\n",
              "      <th>survival_status</th>\n",
              "    </tr>\n",
              "  </thead>\n",
              "  <tbody>\n",
              "    <tr>\n",
              "      <th>0</th>\n",
              "      <td>30</td>\n",
              "      <td>64</td>\n",
              "      <td>1</td>\n",
              "      <td>1</td>\n",
              "    </tr>\n",
              "    <tr>\n",
              "      <th>1</th>\n",
              "      <td>30</td>\n",
              "      <td>62</td>\n",
              "      <td>3</td>\n",
              "      <td>1</td>\n",
              "    </tr>\n",
              "    <tr>\n",
              "      <th>2</th>\n",
              "      <td>30</td>\n",
              "      <td>65</td>\n",
              "      <td>0</td>\n",
              "      <td>1</td>\n",
              "    </tr>\n",
              "    <tr>\n",
              "      <th>3</th>\n",
              "      <td>31</td>\n",
              "      <td>59</td>\n",
              "      <td>2</td>\n",
              "      <td>1</td>\n",
              "    </tr>\n",
              "    <tr>\n",
              "      <th>4</th>\n",
              "      <td>31</td>\n",
              "      <td>65</td>\n",
              "      <td>4</td>\n",
              "      <td>1</td>\n",
              "    </tr>\n",
              "  </tbody>\n",
              "</table>\n",
              "</div>"
            ],
            "text/plain": [
              "   Age  Patient's Years  N_positive_ax  survival_status\n",
              "0   30               64              1                1\n",
              "1   30               62              3                1\n",
              "2   30               65              0                1\n",
              "3   31               59              2                1\n",
              "4   31               65              4                1"
            ]
          },
          "metadata": {
            "tags": []
          },
          "execution_count": 13
        }
      ]
    },
    {
      "cell_type": "code",
      "metadata": {
        "id": "znc1dEGO_XU2",
        "colab_type": "code",
        "colab": {}
      },
      "source": [
        "# Code here\n",
        "from sklearn.neighbors import KNeighborsClassifier\n",
        "from sklearn.model_selection import GridSearchCV\n",
        "import numpy as np\n",
        "\n",
        "X = df.drop('survival_status', axis=1)\n",
        "y = df['survival_status']"
      ],
      "execution_count": null,
      "outputs": []
    },
    {
      "cell_type": "markdown",
      "metadata": {
        "id": "bwkK73FzIvDj",
        "colab_type": "text"
      },
      "source": [
        "Hyperparameter terbaik untuk kombinasi hyperparameter = Menggunakan GridSearchCV"
      ]
    },
    {
      "cell_type": "code",
      "metadata": {
        "id": "vminM02hIyij",
        "colab_type": "code",
        "colab": {
          "base_uri": "https://localhost:8080/",
          "height": 307
        },
        "outputId": "19c4ced0-2a79-434d-9e26-379cac64e9f4"
      },
      "source": [
        "# Code here\n",
        "knn = KNeighborsClassifier()\n",
        "params = {'n_neighbors':np.arange(5,100),'weights':['uniform','distance'],\n",
        "          'algorithm':['ball_tree','kd_tree','brute']}\n",
        "GridSearchCV = GridSearchCV(knn,param_grid=params,scoring='roc_auc',cv=10)\n",
        "GridSearchCV.fit(X, y)"
      ],
      "execution_count": null,
      "outputs": [
        {
          "output_type": "execute_result",
          "data": {
            "text/plain": [
              "GridSearchCV(cv=10, error_score=nan,\n",
              "             estimator=KNeighborsClassifier(algorithm='auto', leaf_size=30,\n",
              "                                            metric='minkowski',\n",
              "                                            metric_params=None, n_jobs=None,\n",
              "                                            n_neighbors=5, p=2,\n",
              "                                            weights='uniform'),\n",
              "             iid='deprecated', n_jobs=None,\n",
              "             param_grid={'algorithm': ['ball_tree', 'kd_tree', 'brute'],\n",
              "                         'n_neighbors': array([ 5,  6,  7,  8,  9, 10, 11, 12, 13, 14, 15, 16, 17, 18, 19, 20, 21,\n",
              "       22, 23, 24, 25, 26, 27, 28, 29, 30, 31, 32, 33, 34, 35, 36, 37, 38,\n",
              "       39, 40, 41, 42, 43, 44, 45, 46, 47, 48, 49, 50, 51, 52, 53, 54, 55,\n",
              "       56, 57, 58, 59, 60, 61, 62, 63, 64, 65, 66, 67, 68, 69, 70, 71, 72,\n",
              "       73, 74, 75, 76, 77, 78, 79, 80, 81, 82, 83, 84, 85, 86, 87, 88, 89,\n",
              "       90, 91, 92, 93, 94, 95, 96, 97, 98, 99]),\n",
              "                         'weights': ['uniform', 'distance']},\n",
              "             pre_dispatch='2*n_jobs', refit=True, return_train_score=False,\n",
              "             scoring='roc_auc', verbose=0)"
            ]
          },
          "metadata": {
            "tags": []
          },
          "execution_count": 15
        }
      ]
    },
    {
      "cell_type": "markdown",
      "metadata": {
        "id": "21YNZ1DCIzwX",
        "colab_type": "text"
      },
      "source": [
        "\n",
        "Score validasi terbaik dari model tersebut ="
      ]
    },
    {
      "cell_type": "code",
      "metadata": {
        "id": "b3xEWJDGJDaP",
        "colab_type": "code",
        "colab": {
          "base_uri": "https://localhost:8080/",
          "height": 51
        },
        "outputId": "b2211a3c-8d63-429b-ccb6-cd906895dc84"
      },
      "source": [
        "# Code here\n",
        "print(GridSearchCV.best_params_)\n",
        "print(GridSearchCV.best_score_)"
      ],
      "execution_count": null,
      "outputs": [
        {
          "output_type": "stream",
          "text": [
            "{'algorithm': 'kd_tree', 'n_neighbors': 48, 'weights': 'uniform'}\n",
            "0.7359903381642512\n"
          ],
          "name": "stdout"
        }
      ]
    },
    {
      "cell_type": "markdown",
      "metadata": {
        "id": "E6-5nuafI2bg",
        "colab_type": "text"
      },
      "source": [
        "\n",
        "Prediksi probabilitasi output dari model yang telah di buat terhadap data test. "
      ]
    },
    {
      "cell_type": "code",
      "metadata": {
        "id": "XE_0jaCLI_xM",
        "colab_type": "code",
        "colab": {
          "base_uri": "https://localhost:8080/",
          "height": 51
        },
        "outputId": "69af8c86-8646-4592-c678-312be3d2e672"
      },
      "source": [
        "# Code Here\n",
        "X_train, X_test, y_train, y_test = train_test_split(X, y, test_size=0.25, random_state=21, stratify=y)\n",
        "knn = KNeighborsClassifier(algorithm='kd_tree', n_neighbors=48, weights='uniform')\n",
        "knn.fit(X_train, y_train)\n",
        "y_predict_train = knn.predict(X_train)\n",
        "y_predict_test = knn.predict(X_test)\n",
        "from sklearn.metrics import accuracy_score \n",
        "print('Score train', accuracy_score(y_train, y_predict_train))\n",
        "print('Score test', accuracy_score(y_test, y_predict_test))"
      ],
      "execution_count": null,
      "outputs": [
        {
          "output_type": "stream",
          "text": [
            "Score train 0.7554585152838428\n",
            "Score test 0.7402597402597403\n"
          ],
          "name": "stdout"
        }
      ]
    },
    {
      "cell_type": "markdown",
      "metadata": {
        "id": "pPU1pLWZJNAZ",
        "colab_type": "text"
      },
      "source": [
        "Nilai score roc_auc untuk data test"
      ]
    },
    {
      "cell_type": "code",
      "metadata": {
        "id": "RCRjnwmiJSCy",
        "colab_type": "code",
        "colab": {
          "base_uri": "https://localhost:8080/",
          "height": 51
        },
        "outputId": "b29001b0-1f9a-45ff-eacd-a94dacf883a9"
      },
      "source": [
        "# Code here\n",
        "from sklearn.metrics import roc_auc_score \n",
        "print('roc_auc train', roc_auc_score(y_train, y_predict_train))\n",
        "print('roc_auc test', roc_auc_score(y_test, y_predict_test))"
      ],
      "execution_count": null,
      "outputs": [
        {
          "output_type": "stream",
          "text": [
            "roc_auc train 0.5514246682279469\n",
            "roc_auc test 0.5486842105263158\n"
          ],
          "name": "stdout"
        }
      ]
    },
    {
      "cell_type": "markdown",
      "metadata": {
        "id": "9tCNy7C2RzOE",
        "colab_type": "text"
      },
      "source": [
        "Menggunakan algoritma DecisionTreeClassifier"
      ]
    },
    {
      "cell_type": "code",
      "metadata": {
        "id": "acBKVWBsR0oU",
        "colab_type": "code",
        "colab": {
          "base_uri": "https://localhost:8080/",
          "height": 204
        },
        "outputId": "04f9427c-6c8d-4a28-951e-aaaf4f3b7dd8"
      },
      "source": [
        "from sklearn.metrics import confusion_matrix, classification_report\n",
        "confusion_matrix = confusion_matrix(y_test, y_predict_test)\n",
        "print(confusion_matrix)\n",
        "\n",
        "classification_report = classification_report(y_test, y_predict_test)\n",
        "print(classification_report)"
      ],
      "execution_count": null,
      "outputs": [
        {
          "output_type": "stream",
          "text": [
            "[[54  3]\n",
            " [17  3]]\n",
            "              precision    recall  f1-score   support\n",
            "\n",
            "           1       0.76      0.95      0.84        57\n",
            "           2       0.50      0.15      0.23        20\n",
            "\n",
            "    accuracy                           0.74        77\n",
            "   macro avg       0.63      0.55      0.54        77\n",
            "weighted avg       0.69      0.74      0.68        77\n",
            "\n"
          ],
          "name": "stdout"
        }
      ]
    },
    {
      "cell_type": "code",
      "metadata": {
        "id": "DmreantgTTEQ",
        "colab_type": "code",
        "colab": {
          "base_uri": "https://localhost:8080/",
          "height": 197
        },
        "outputId": "442f09ee-54b1-41c5-8197-92a86f04295d"
      },
      "source": [
        "probability = knn.predict_proba(X_test)\n",
        "df_probability = pd.DataFrame(probability,columns=['positif','negatif'])\n",
        "df_probability.head()"
      ],
      "execution_count": null,
      "outputs": [
        {
          "output_type": "execute_result",
          "data": {
            "text/html": [
              "<div>\n",
              "<style scoped>\n",
              "    .dataframe tbody tr th:only-of-type {\n",
              "        vertical-align: middle;\n",
              "    }\n",
              "\n",
              "    .dataframe tbody tr th {\n",
              "        vertical-align: top;\n",
              "    }\n",
              "\n",
              "    .dataframe thead th {\n",
              "        text-align: right;\n",
              "    }\n",
              "</style>\n",
              "<table border=\"1\" class=\"dataframe\">\n",
              "  <thead>\n",
              "    <tr style=\"text-align: right;\">\n",
              "      <th></th>\n",
              "      <th>positif</th>\n",
              "      <th>negatif</th>\n",
              "    </tr>\n",
              "  </thead>\n",
              "  <tbody>\n",
              "    <tr>\n",
              "      <th>0</th>\n",
              "      <td>0.833333</td>\n",
              "      <td>0.166667</td>\n",
              "    </tr>\n",
              "    <tr>\n",
              "      <th>1</th>\n",
              "      <td>0.729167</td>\n",
              "      <td>0.270833</td>\n",
              "    </tr>\n",
              "    <tr>\n",
              "      <th>2</th>\n",
              "      <td>0.708333</td>\n",
              "      <td>0.291667</td>\n",
              "    </tr>\n",
              "    <tr>\n",
              "      <th>3</th>\n",
              "      <td>0.541667</td>\n",
              "      <td>0.458333</td>\n",
              "    </tr>\n",
              "    <tr>\n",
              "      <th>4</th>\n",
              "      <td>0.708333</td>\n",
              "      <td>0.291667</td>\n",
              "    </tr>\n",
              "  </tbody>\n",
              "</table>\n",
              "</div>"
            ],
            "text/plain": [
              "    positif   negatif\n",
              "0  0.833333  0.166667\n",
              "1  0.729167  0.270833\n",
              "2  0.708333  0.291667\n",
              "3  0.541667  0.458333\n",
              "4  0.708333  0.291667"
            ]
          },
          "metadata": {
            "tags": []
          },
          "execution_count": 22
        }
      ]
    },
    {
      "cell_type": "code",
      "metadata": {
        "id": "WtHK3rqXTpxW",
        "colab_type": "code",
        "colab": {
          "base_uri": "https://localhost:8080/",
          "height": 51
        },
        "outputId": "5382d3d5-a6f7-4ca6-c326-7c98b981c383"
      },
      "source": [
        "print('Probability Pasien Positif ', df_probability['positif'].mean())\n",
        "print('Probability Pasien Negatif ', df_probability['negatif'].mean())"
      ],
      "execution_count": null,
      "outputs": [
        {
          "output_type": "stream",
          "text": [
            "Probability Pasien Positif  0.7416125541125541\n",
            "Probability Pasien Negatif  0.25838744588744583\n"
          ],
          "name": "stdout"
        }
      ]
    }
  ]
}